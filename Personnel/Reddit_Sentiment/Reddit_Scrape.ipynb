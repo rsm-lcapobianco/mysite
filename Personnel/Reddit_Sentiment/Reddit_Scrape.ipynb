{
 "cells": [
  {
   "cell_type": "code",
   "execution_count": 1,
   "id": "8b4582ca",
   "metadata": {},
   "outputs": [
    {
     "name": "stderr",
     "output_type": "stream",
     "text": [
      "Matplotlib created a temporary cache directory at /tmp/matplotlib-rtvczs6a because the default path (/home/jovyan/.config/matplotlib) is not a writable directory; it is highly recommended to set the MPLCONFIGDIR environment variable to a writable directory, in particular to speed up the import of Matplotlib and to better support multiprocessing.\n"
     ]
    }
   ],
   "source": [
    "import praw\n",
    "import regex as re\n",
    "import numpy as np\n",
    "import pandas as pd\n",
    "import matplotlib.pyplot as plt\n",
    "import seaborn as sns\n",
    "import datetime\n",
    "import os\n",
    "import sklearn\n",
    "import nltk"
   ]
  },
  {
   "cell_type": "code",
   "execution_count": null,
   "id": "23cad355",
   "metadata": {},
   "outputs": [],
   "source": [
    "clientid = ''\n",
    "client_secret = ''\n",
    "user_agent = \"\""
   ]
  },
  {
   "cell_type": "code",
   "execution_count": 3,
   "id": "d80dc1c5",
   "metadata": {},
   "outputs": [],
   "source": [
    "reddit = praw.Reddit(\n",
    "    client_id=clientid,\n",
    "    client_secret=client_secret,\n",
    "    user_agent=user_agent\n",
    ")"
   ]
  },
  {
   "cell_type": "code",
   "execution_count": 4,
   "id": "49acfb20",
   "metadata": {},
   "outputs": [
    {
     "name": "stdout",
     "output_type": "stream",
     "text": [
      "True\n"
     ]
    }
   ],
   "source": [
    "print(reddit.read_only)\n",
    "# Output: True"
   ]
  },
  {
   "cell_type": "code",
   "execution_count": 5,
   "id": "ea319ac2",
   "metadata": {},
   "outputs": [],
   "source": [
    "import re\n",
    "\n",
    "def find_matched_terms(text, terms):\n",
    "    matched = []\n",
    "    for term in terms:\n",
    "        # Word-boundary search (e.g., matches \"lead\" but not \"leadership\")\n",
    "        pattern = rf'\\b{re.escape(term)}\\b'\n",
    "        if re.search(pattern, text, flags=re.IGNORECASE):\n",
    "            matched.append(term)\n",
    "    return matched\n"
   ]
  },
  {
   "cell_type": "code",
   "execution_count": 6,
   "id": "0d05f7dd",
   "metadata": {},
   "outputs": [],
   "source": [
    "tar_sub = 'datacenter'\n",
    "battery_terms = ['battery', 'batteries', 'lithium', 'li-ion', 'sodium', 'lead', 'acid', 'ups','sodium','ion']\n",
    "time_filter = 'all'"
   ]
  },
  {
   "cell_type": "code",
   "execution_count": 7,
   "id": "d5c2e65b",
   "metadata": {},
   "outputs": [],
   "source": [
    "data = []\n",
    "seen_comments = set()\n",
    "\n",
    "for term in battery_terms:\n",
    "    for submission in reddit.subreddit(tar_sub).search(term, sort=\"top\", time_filter=time_filter):\n",
    "        submission.comments.replace_more(limit=0)\n",
    "        for comment in submission.comments.list():\n",
    "            if comment.id in seen_comments:\n",
    "                continue\n",
    "            text = comment.body.lower()\n",
    "            matched_terms = find_matched_terms(text, battery_terms)\n",
    "            if matched_terms:\n",
    "                data.append({\n",
    "                    'comment_id': comment.id,\n",
    "                    'author': str(comment.author),\n",
    "                    'text': text,\n",
    "                    'matched_terms': matched_terms,\n",
    "                    'submission_id': submission.id,\n",
    "                    'submission_title': submission.title\n",
    "                })\n",
    "                seen_comments.add(comment.id)\n",
    "\n",
    "# Convert to DataFrame\n",
    "df = pd.DataFrame(data)\n"
   ]
  },
  {
   "cell_type": "markdown",
   "id": "f9008614",
   "metadata": {},
   "source": [
    "# Begin sentiment Analysis"
   ]
  },
  {
   "cell_type": "markdown",
   "id": "ded7a047",
   "metadata": {},
   "source": [
    "- We'll use the `VADER` sentiment analyzer to conduct out sentiment analysis\n",
    "    - `VADER` will score each word in the comment\n",
    "        - good = + 1.9\n",
    "        - good!!!! = +2.3\n",
    "        - bad = - 2.5\n",
    "        - Extremely Bad = -3\n",
    "        - awesome = +3.1\n",
    "    - Output from `VADER` will have the proprtion of posivtive and negative sentment in the text and produced a normalized value `compund`\n",
    "    - We'll apply the label marking it as net positive or net negative response based on the `compound` score"
   ]
  },
  {
   "cell_type": "code",
   "execution_count": 8,
   "id": "80a53133",
   "metadata": {},
   "outputs": [
    {
     "data": {
      "application/vnd.microsoft.datawrangler.viewer.v0+json": {
       "columns": [
        {
         "name": "index",
         "rawType": "int64",
         "type": "integer"
        },
        {
         "name": "comment_id",
         "rawType": "object",
         "type": "string"
        },
        {
         "name": "author",
         "rawType": "object",
         "type": "string"
        },
        {
         "name": "text",
         "rawType": "object",
         "type": "string"
        },
        {
         "name": "matched_terms",
         "rawType": "object",
         "type": "unknown"
        },
        {
         "name": "submission_id",
         "rawType": "object",
         "type": "string"
        },
        {
         "name": "submission_title",
         "rawType": "object",
         "type": "string"
        }
       ],
       "conversionMethod": "pd.DataFrame",
       "ref": "de0d7572-30be-4493-ac23-675a36cd5809",
       "rows": [
        [
         "0",
         "g0bu3y5",
         "ghostalker47423",
         "do a visual inspection, and if you see any leaking or bulging, chuck them out. everything else is safe. sla batteries can sit around practically forever - even the big ones - as long as they're not being used as a doorstop or wheel chokes.\n\nas for whether they work, hold a charge, how much of a charge (etc)... that's another problem.",
         "['batteries']",
         "i3jdwl",
         "Inheriting a 30 kVA UPS with 2 strings of 24 batteries dated to 2005. UPS is off and in bypass mode. Are 15 year old sealed lead-acid batteries a potential fire hazard?"
        ],
        [
         "1",
         "g0diub1",
         "Redebo",
         "disconnect the battery strings via the associated battery breaker or switch that is either in the ups or electrically in line with the ups.  if you want to be safer after that, remove the intercell jumpers between each battery (caution, batteries are always 'live' and can present voltage and current when both terminals are touched).  once the batteries are disconnected and just sitting on a shelf, you can leave them there practically forever with no risk.\n\nalso, would definitely recommend rip and replace on a 15 year old ups.  if you are located in the western us, my company can assist if you're in need.",
         "['battery', 'batteries', 'ups']",
         "i3jdwl",
         "Inheriting a 30 kVA UPS with 2 strings of 24 batteries dated to 2005. UPS is off and in bypass mode. Are 15 year old sealed lead-acid batteries a potential fire hazard?"
        ],
        [
         "2",
         "g0dtxqg",
         "letsbebuns",
         "the batteries should be removed based on age.  they are dangerous if they have voltage flowing to them or if they show any bulging whatsoever.  \n\nthe ups can be salvaged, you just need to purchase new lead acid batteries for it and install them.  \n\nbut i would just e-waste the entire thing, it's not doing anything in bypass mode, it's not conditioning your power or protecting you from surges.",
         "['batteries', 'lead', 'acid', 'ups']",
         "i3jdwl",
         "Inheriting a 30 kVA UPS with 2 strings of 24 batteries dated to 2005. UPS is off and in bypass mode. Are 15 year old sealed lead-acid batteries a potential fire hazard?"
        ],
        [
         "3",
         "g0ebpdx",
         "looktowindward",
         "yes, they are a safety hazard. you should call a battery maintenance company for disposal, immediately.",
         "['battery']",
         "i3jdwl",
         "Inheriting a 30 kVA UPS with 2 strings of 24 batteries dated to 2005. UPS is off and in bypass mode. Are 15 year old sealed lead-acid batteries a potential fire hazard?"
        ],
        [
         "4",
         "g0euygg",
         "xpkranger",
         "i’m going to get rid of them, waiting on a quote now. but it’s interesting to see the polar (forgive the term) opinions on batteries in this thread.",
         "['batteries']",
         "i3jdwl",
         "Inheriting a 30 kVA UPS with 2 strings of 24 batteries dated to 2005. UPS is off and in bypass mode. Are 15 year old sealed lead-acid batteries a potential fire hazard?"
        ]
       ],
       "shape": {
        "columns": 6,
        "rows": 5
       }
      },
      "text/html": [
       "<div>\n",
       "<style scoped>\n",
       "    .dataframe tbody tr th:only-of-type {\n",
       "        vertical-align: middle;\n",
       "    }\n",
       "\n",
       "    .dataframe tbody tr th {\n",
       "        vertical-align: top;\n",
       "    }\n",
       "\n",
       "    .dataframe thead th {\n",
       "        text-align: right;\n",
       "    }\n",
       "</style>\n",
       "<table border=\"1\" class=\"dataframe\">\n",
       "  <thead>\n",
       "    <tr style=\"text-align: right;\">\n",
       "      <th></th>\n",
       "      <th>comment_id</th>\n",
       "      <th>author</th>\n",
       "      <th>text</th>\n",
       "      <th>matched_terms</th>\n",
       "      <th>submission_id</th>\n",
       "      <th>submission_title</th>\n",
       "    </tr>\n",
       "  </thead>\n",
       "  <tbody>\n",
       "    <tr>\n",
       "      <th>0</th>\n",
       "      <td>g0bu3y5</td>\n",
       "      <td>ghostalker47423</td>\n",
       "      <td>do a visual inspection, and if you see any lea...</td>\n",
       "      <td>[batteries]</td>\n",
       "      <td>i3jdwl</td>\n",
       "      <td>Inheriting a 30 kVA UPS with 2 strings of 24 b...</td>\n",
       "    </tr>\n",
       "    <tr>\n",
       "      <th>1</th>\n",
       "      <td>g0diub1</td>\n",
       "      <td>Redebo</td>\n",
       "      <td>disconnect the battery strings via the associa...</td>\n",
       "      <td>[battery, batteries, ups]</td>\n",
       "      <td>i3jdwl</td>\n",
       "      <td>Inheriting a 30 kVA UPS with 2 strings of 24 b...</td>\n",
       "    </tr>\n",
       "    <tr>\n",
       "      <th>2</th>\n",
       "      <td>g0dtxqg</td>\n",
       "      <td>letsbebuns</td>\n",
       "      <td>the batteries should be removed based on age. ...</td>\n",
       "      <td>[batteries, lead, acid, ups]</td>\n",
       "      <td>i3jdwl</td>\n",
       "      <td>Inheriting a 30 kVA UPS with 2 strings of 24 b...</td>\n",
       "    </tr>\n",
       "    <tr>\n",
       "      <th>3</th>\n",
       "      <td>g0ebpdx</td>\n",
       "      <td>looktowindward</td>\n",
       "      <td>yes, they are a safety hazard. you should call...</td>\n",
       "      <td>[battery]</td>\n",
       "      <td>i3jdwl</td>\n",
       "      <td>Inheriting a 30 kVA UPS with 2 strings of 24 b...</td>\n",
       "    </tr>\n",
       "    <tr>\n",
       "      <th>4</th>\n",
       "      <td>g0euygg</td>\n",
       "      <td>xpkranger</td>\n",
       "      <td>i’m going to get rid of them, waiting on a quo...</td>\n",
       "      <td>[batteries]</td>\n",
       "      <td>i3jdwl</td>\n",
       "      <td>Inheriting a 30 kVA UPS with 2 strings of 24 b...</td>\n",
       "    </tr>\n",
       "  </tbody>\n",
       "</table>\n",
       "</div>"
      ],
      "text/plain": [
       "  comment_id           author  \\\n",
       "0    g0bu3y5  ghostalker47423   \n",
       "1    g0diub1           Redebo   \n",
       "2    g0dtxqg       letsbebuns   \n",
       "3    g0ebpdx   looktowindward   \n",
       "4    g0euygg        xpkranger   \n",
       "\n",
       "                                                text  \\\n",
       "0  do a visual inspection, and if you see any lea...   \n",
       "1  disconnect the battery strings via the associa...   \n",
       "2  the batteries should be removed based on age. ...   \n",
       "3  yes, they are a safety hazard. you should call...   \n",
       "4  i’m going to get rid of them, waiting on a quo...   \n",
       "\n",
       "                  matched_terms submission_id  \\\n",
       "0                   [batteries]        i3jdwl   \n",
       "1     [battery, batteries, ups]        i3jdwl   \n",
       "2  [batteries, lead, acid, ups]        i3jdwl   \n",
       "3                     [battery]        i3jdwl   \n",
       "4                   [batteries]        i3jdwl   \n",
       "\n",
       "                                    submission_title  \n",
       "0  Inheriting a 30 kVA UPS with 2 strings of 24 b...  \n",
       "1  Inheriting a 30 kVA UPS with 2 strings of 24 b...  \n",
       "2  Inheriting a 30 kVA UPS with 2 strings of 24 b...  \n",
       "3  Inheriting a 30 kVA UPS with 2 strings of 24 b...  \n",
       "4  Inheriting a 30 kVA UPS with 2 strings of 24 b...  "
      ]
     },
     "execution_count": 8,
     "metadata": {},
     "output_type": "execute_result"
    }
   ],
   "source": [
    "df.head()"
   ]
  },
  {
   "cell_type": "code",
   "execution_count": 9,
   "id": "d87fafeb",
   "metadata": {},
   "outputs": [
    {
     "name": "stdout",
     "output_type": "stream",
     "text": [
      "disconnect the battery strings via the associated battery breaker or switch that is either in the ups or electrically in line with the ups.  if you want to be safer after that, remove the intercell jumpers between each battery (caution, batteries are always 'live' and can present voltage and current when both terminals are touched).  once the batteries are disconnected and just sitting on a shelf, you can leave them there practically forever with no risk.\n",
      "\n",
      "also, would definitely recommend rip and replace on a 15 year old ups.  if you are located in the western us, my company can assist if you're in need.\n",
      "{'neg': 0.011, 'neu': 0.889, 'pos': 0.1, 'compound': 0.8366}\n"
     ]
    }
   ],
   "source": [
    "from vaderSentiment.vaderSentiment import SentimentIntensityAnalyzer\n",
    "example = df['text'][1]\n",
    "print(example)\n",
    "\n",
    "ex_analyzer = SentimentIntensityAnalyzer()\n",
    "\n",
    "ex_sent = ex_analyzer.polarity_scores(example)\n",
    "print(ex_sent)"
   ]
  },
  {
   "cell_type": "code",
   "execution_count": 10,
   "id": "11341996",
   "metadata": {},
   "outputs": [],
   "source": [
    "from vaderSentiment.vaderSentiment import SentimentIntensityAnalyzer\n",
    "\n",
    "analyzer = SentimentIntensityAnalyzer()\n"
   ]
  },
  {
   "cell_type": "code",
   "execution_count": 11,
   "id": "cf572c45",
   "metadata": {},
   "outputs": [],
   "source": [
    "# Apply VADER to each comment's text\n",
    "df['sentiment'] = df['text'].apply(lambda x: analyzer.polarity_scores(x))\n"
   ]
  },
  {
   "cell_type": "code",
   "execution_count": 12,
   "id": "14b26bc8",
   "metadata": {},
   "outputs": [],
   "source": [
    "df = pd.concat([df.drop('sentiment', axis=1), df['sentiment'].apply(pd.Series)], axis=1)\n"
   ]
  },
  {
   "cell_type": "code",
   "execution_count": 13,
   "id": "6188818a",
   "metadata": {},
   "outputs": [],
   "source": [
    "def get_label(score):\n",
    "    if score >= 0.05:\n",
    "        return 'positive'\n",
    "    elif score <= -0.05:\n",
    "        return 'negative'\n",
    "    else:\n",
    "        return 'neutral'\n",
    "\n",
    "df['sentiment_label'] = df['compound'].apply(get_label)\n"
   ]
  },
  {
   "cell_type": "code",
   "execution_count": 14,
   "id": "2cbe905d",
   "metadata": {},
   "outputs": [
    {
     "data": {
      "application/vnd.microsoft.datawrangler.viewer.v0+json": {
       "columns": [
        {
         "name": "index",
         "rawType": "int64",
         "type": "integer"
        },
        {
         "name": "comment_id",
         "rawType": "object",
         "type": "string"
        },
        {
         "name": "author",
         "rawType": "object",
         "type": "string"
        },
        {
         "name": "text",
         "rawType": "object",
         "type": "string"
        },
        {
         "name": "matched_terms",
         "rawType": "object",
         "type": "unknown"
        },
        {
         "name": "submission_id",
         "rawType": "object",
         "type": "string"
        },
        {
         "name": "submission_title",
         "rawType": "object",
         "type": "string"
        },
        {
         "name": "neg",
         "rawType": "float64",
         "type": "float"
        },
        {
         "name": "neu",
         "rawType": "float64",
         "type": "float"
        },
        {
         "name": "pos",
         "rawType": "float64",
         "type": "float"
        },
        {
         "name": "compound",
         "rawType": "float64",
         "type": "float"
        },
        {
         "name": "sentiment_label",
         "rawType": "object",
         "type": "string"
        }
       ],
       "conversionMethod": "pd.DataFrame",
       "ref": "e9cea39d-84e4-4fbc-b12a-063891ab4c90",
       "rows": [
        [
         "0",
         "g0bu3y5",
         "ghostalker47423",
         "do a visual inspection, and if you see any leaking or bulging, chuck them out. everything else is safe. sla batteries can sit around practically forever - even the big ones - as long as they're not being used as a doorstop or wheel chokes.\n\nas for whether they work, hold a charge, how much of a charge (etc)... that's another problem.",
         "['batteries']",
         "i3jdwl",
         "Inheriting a 30 kVA UPS with 2 strings of 24 batteries dated to 2005. UPS is off and in bypass mode. Are 15 year old sealed lead-acid batteries a potential fire hazard?",
         "0.084",
         "0.873",
         "0.043",
         "-0.4215",
         "negative"
        ],
        [
         "1",
         "g0diub1",
         "Redebo",
         "disconnect the battery strings via the associated battery breaker or switch that is either in the ups or electrically in line with the ups.  if you want to be safer after that, remove the intercell jumpers between each battery (caution, batteries are always 'live' and can present voltage and current when both terminals are touched).  once the batteries are disconnected and just sitting on a shelf, you can leave them there practically forever with no risk.\n\nalso, would definitely recommend rip and replace on a 15 year old ups.  if you are located in the western us, my company can assist if you're in need.",
         "['battery', 'batteries', 'ups']",
         "i3jdwl",
         "Inheriting a 30 kVA UPS with 2 strings of 24 batteries dated to 2005. UPS is off and in bypass mode. Are 15 year old sealed lead-acid batteries a potential fire hazard?",
         "0.011",
         "0.889",
         "0.1",
         "0.8366",
         "positive"
        ],
        [
         "2",
         "g0dtxqg",
         "letsbebuns",
         "the batteries should be removed based on age.  they are dangerous if they have voltage flowing to them or if they show any bulging whatsoever.  \n\nthe ups can be salvaged, you just need to purchase new lead acid batteries for it and install them.  \n\nbut i would just e-waste the entire thing, it's not doing anything in bypass mode, it's not conditioning your power or protecting you from surges.",
         "['batteries', 'lead', 'acid', 'ups']",
         "i3jdwl",
         "Inheriting a 30 kVA UPS with 2 strings of 24 batteries dated to 2005. UPS is off and in bypass mode. Are 15 year old sealed lead-acid batteries a potential fire hazard?",
         "0.029",
         "0.971",
         "0.0",
         "-0.2617",
         "negative"
        ]
       ],
       "shape": {
        "columns": 11,
        "rows": 3
       }
      },
      "text/html": [
       "<div>\n",
       "<style scoped>\n",
       "    .dataframe tbody tr th:only-of-type {\n",
       "        vertical-align: middle;\n",
       "    }\n",
       "\n",
       "    .dataframe tbody tr th {\n",
       "        vertical-align: top;\n",
       "    }\n",
       "\n",
       "    .dataframe thead th {\n",
       "        text-align: right;\n",
       "    }\n",
       "</style>\n",
       "<table border=\"1\" class=\"dataframe\">\n",
       "  <thead>\n",
       "    <tr style=\"text-align: right;\">\n",
       "      <th></th>\n",
       "      <th>comment_id</th>\n",
       "      <th>author</th>\n",
       "      <th>text</th>\n",
       "      <th>matched_terms</th>\n",
       "      <th>submission_id</th>\n",
       "      <th>submission_title</th>\n",
       "      <th>neg</th>\n",
       "      <th>neu</th>\n",
       "      <th>pos</th>\n",
       "      <th>compound</th>\n",
       "      <th>sentiment_label</th>\n",
       "    </tr>\n",
       "  </thead>\n",
       "  <tbody>\n",
       "    <tr>\n",
       "      <th>0</th>\n",
       "      <td>g0bu3y5</td>\n",
       "      <td>ghostalker47423</td>\n",
       "      <td>do a visual inspection, and if you see any lea...</td>\n",
       "      <td>[batteries]</td>\n",
       "      <td>i3jdwl</td>\n",
       "      <td>Inheriting a 30 kVA UPS with 2 strings of 24 b...</td>\n",
       "      <td>0.084</td>\n",
       "      <td>0.873</td>\n",
       "      <td>0.043</td>\n",
       "      <td>-0.4215</td>\n",
       "      <td>negative</td>\n",
       "    </tr>\n",
       "    <tr>\n",
       "      <th>1</th>\n",
       "      <td>g0diub1</td>\n",
       "      <td>Redebo</td>\n",
       "      <td>disconnect the battery strings via the associa...</td>\n",
       "      <td>[battery, batteries, ups]</td>\n",
       "      <td>i3jdwl</td>\n",
       "      <td>Inheriting a 30 kVA UPS with 2 strings of 24 b...</td>\n",
       "      <td>0.011</td>\n",
       "      <td>0.889</td>\n",
       "      <td>0.100</td>\n",
       "      <td>0.8366</td>\n",
       "      <td>positive</td>\n",
       "    </tr>\n",
       "    <tr>\n",
       "      <th>2</th>\n",
       "      <td>g0dtxqg</td>\n",
       "      <td>letsbebuns</td>\n",
       "      <td>the batteries should be removed based on age. ...</td>\n",
       "      <td>[batteries, lead, acid, ups]</td>\n",
       "      <td>i3jdwl</td>\n",
       "      <td>Inheriting a 30 kVA UPS with 2 strings of 24 b...</td>\n",
       "      <td>0.029</td>\n",
       "      <td>0.971</td>\n",
       "      <td>0.000</td>\n",
       "      <td>-0.2617</td>\n",
       "      <td>negative</td>\n",
       "    </tr>\n",
       "  </tbody>\n",
       "</table>\n",
       "</div>"
      ],
      "text/plain": [
       "  comment_id           author  \\\n",
       "0    g0bu3y5  ghostalker47423   \n",
       "1    g0diub1           Redebo   \n",
       "2    g0dtxqg       letsbebuns   \n",
       "\n",
       "                                                text  \\\n",
       "0  do a visual inspection, and if you see any lea...   \n",
       "1  disconnect the battery strings via the associa...   \n",
       "2  the batteries should be removed based on age. ...   \n",
       "\n",
       "                  matched_terms submission_id  \\\n",
       "0                   [batteries]        i3jdwl   \n",
       "1     [battery, batteries, ups]        i3jdwl   \n",
       "2  [batteries, lead, acid, ups]        i3jdwl   \n",
       "\n",
       "                                    submission_title    neg    neu    pos  \\\n",
       "0  Inheriting a 30 kVA UPS with 2 strings of 24 b...  0.084  0.873  0.043   \n",
       "1  Inheriting a 30 kVA UPS with 2 strings of 24 b...  0.011  0.889  0.100   \n",
       "2  Inheriting a 30 kVA UPS with 2 strings of 24 b...  0.029  0.971  0.000   \n",
       "\n",
       "   compound sentiment_label  \n",
       "0   -0.4215        negative  \n",
       "1    0.8366        positive  \n",
       "2   -0.2617        negative  "
      ]
     },
     "execution_count": 14,
     "metadata": {},
     "output_type": "execute_result"
    }
   ],
   "source": [
    "df.head(3)"
   ]
  },
  {
   "cell_type": "code",
   "execution_count": 15,
   "id": "4edf8ef3",
   "metadata": {},
   "outputs": [
    {
     "data": {
      "image/png": "[encoded data removed]",
      "text/plain": [
       "<Figure size 1000x600 with 1 Axes>"
      ]
     },
     "metadata": {},
     "output_type": "display_data"
    }
   ],
   "source": [
    "import pandas as pd\n",
    "import matplotlib.pyplot as plt\n",
    "\n",
    "# Simulate a sample of the df for visualization\n",
    "df_viz = pd.DataFrame({\n",
    "    'matched_terms': df['matched_terms'],\n",
    "    'sentiment_label': df['sentiment_label']\n",
    "})\n",
    "df_exploded = df_viz.explode('matched_terms')\n",
    "\n",
    "\n",
    "# Explode matched_terms to allow grouping by single term\n",
    "df_exploded = df_viz.explode('matched_terms')\n",
    "\n",
    "# Count sentiment labels per battery type\n",
    "sentiment_counts = df_exploded.groupby(['matched_terms', 'sentiment_label']).size().unstack(fill_value=0)\n",
    "\n",
    "# Plot the sentiment distribution per battery type\n",
    "sentiment_counts.plot(kind='bar', stacked=True, figsize=(10, 6))\n",
    "plt.title('Sentiment Distribution by Battery Type')\n",
    "plt.xlabel('Battery Type')\n",
    "plt.ylabel('Number of Comments')\n",
    "plt.xticks(rotation=45)\n",
    "plt.tight_layout()\n",
    "plt.grid(axis='y')\n",
    "\n",
    "plt.show()"
   ]
  },
  {
   "cell_type": "code",
   "execution_count": 16,
   "id": "fc7f578e",
   "metadata": {},
   "outputs": [
    {
     "data": {
      "application/vnd.microsoft.datawrangler.viewer.v0+json": {
       "columns": [
        {
         "name": "index",
         "rawType": "int64",
         "type": "integer"
        },
        {
         "name": "comment_id",
         "rawType": "object",
         "type": "string"
        },
        {
         "name": "author",
         "rawType": "object",
         "type": "string"
        },
        {
         "name": "text",
         "rawType": "object",
         "type": "string"
        },
        {
         "name": "matched_terms",
         "rawType": "object",
         "type": "unknown"
        },
        {
         "name": "submission_id",
         "rawType": "object",
         "type": "string"
        },
        {
         "name": "submission_title",
         "rawType": "object",
         "type": "string"
        },
        {
         "name": "neg",
         "rawType": "float64",
         "type": "float"
        },
        {
         "name": "neu",
         "rawType": "float64",
         "type": "float"
        },
        {
         "name": "pos",
         "rawType": "float64",
         "type": "float"
        },
        {
         "name": "compound",
         "rawType": "float64",
         "type": "float"
        },
        {
         "name": "sentiment_label",
         "rawType": "object",
         "type": "string"
        }
       ],
       "conversionMethod": "pd.DataFrame",
       "ref": "ffe27381-3d9d-443a-98c1-ddf0491bd253",
       "rows": [
        [
         "0",
         "g0bu3y5",
         "ghostalker47423",
         "do a visual inspection, and if you see any leaking or bulging, chuck them out. everything else is safe. sla batteries can sit around practically forever - even the big ones - as long as they're not being used as a doorstop or wheel chokes.\n\nas for whether they work, hold a charge, how much of a charge (etc)... that's another problem.",
         "['batteries']",
         "i3jdwl",
         "Inheriting a 30 kVA UPS with 2 strings of 24 batteries dated to 2005. UPS is off and in bypass mode. Are 15 year old sealed lead-acid batteries a potential fire hazard?",
         "0.084",
         "0.873",
         "0.043",
         "-0.4215",
         "negative"
        ],
        [
         "1",
         "g0diub1",
         "Redebo",
         "disconnect the battery strings via the associated battery breaker or switch that is either in the ups or electrically in line with the ups.  if you want to be safer after that, remove the intercell jumpers between each battery (caution, batteries are always 'live' and can present voltage and current when both terminals are touched).  once the batteries are disconnected and just sitting on a shelf, you can leave them there practically forever with no risk.\n\nalso, would definitely recommend rip and replace on a 15 year old ups.  if you are located in the western us, my company can assist if you're in need.",
         "['battery', 'batteries', 'ups']",
         "i3jdwl",
         "Inheriting a 30 kVA UPS with 2 strings of 24 batteries dated to 2005. UPS is off and in bypass mode. Are 15 year old sealed lead-acid batteries a potential fire hazard?",
         "0.011",
         "0.889",
         "0.1",
         "0.8366",
         "positive"
        ],
        [
         "2",
         "g0dtxqg",
         "letsbebuns",
         "the batteries should be removed based on age.  they are dangerous if they have voltage flowing to them or if they show any bulging whatsoever.  \n\nthe ups can be salvaged, you just need to purchase new lead acid batteries for it and install them.  \n\nbut i would just e-waste the entire thing, it's not doing anything in bypass mode, it's not conditioning your power or protecting you from surges.",
         "['batteries', 'lead', 'acid', 'ups']",
         "i3jdwl",
         "Inheriting a 30 kVA UPS with 2 strings of 24 batteries dated to 2005. UPS is off and in bypass mode. Are 15 year old sealed lead-acid batteries a potential fire hazard?",
         "0.029",
         "0.971",
         "0.0",
         "-0.2617",
         "negative"
        ],
        [
         "3",
         "g0ebpdx",
         "looktowindward",
         "yes, they are a safety hazard. you should call a battery maintenance company for disposal, immediately.",
         "['battery']",
         "i3jdwl",
         "Inheriting a 30 kVA UPS with 2 strings of 24 batteries dated to 2005. UPS is off and in bypass mode. Are 15 year old sealed lead-acid batteries a potential fire hazard?",
         "0.0",
         "0.718",
         "0.282",
         "0.6705",
         "positive"
        ],
        [
         "4",
         "g0euygg",
         "xpkranger",
         "i’m going to get rid of them, waiting on a quote now. but it’s interesting to see the polar (forgive the term) opinions on batteries in this thread.",
         "['batteries']",
         "i3jdwl",
         "Inheriting a 30 kVA UPS with 2 strings of 24 batteries dated to 2005. UPS is off and in bypass mode. Are 15 year old sealed lead-acid batteries a potential fire hazard?",
         "0.0",
         "0.807",
         "0.193",
         "0.7351",
         "positive"
        ],
        [
         "5",
         "g12nhi3",
         "SmartArce",
         "the problem you'll have in using the 15 year old unit is that it's likely end of support and parts may not be available, so if you have a failure you may be shit out of luck and have a long downtime.\n\nas for the batteries it might be worth figuring out how long they've been off charge, you should be able to tell from the event log on the ups. like someone said if there's historical data on the batteries it might be easier to track whether impedance is increasing towards an open circuit scenario. generally speaking they are overdue for life cycle replacement, you may be able to find one whole string of good batteries out of the lot but then you'll lose your dual string redundancy.\n\ni'd suggest finding a trusted ups integrator who can tell you whether it's worth trying to salvage or now, i'd say they'll most likely recommend replacement though.",
         "['batteries', 'ups']",
         "i3jdwl",
         "Inheriting a 30 kVA UPS with 2 strings of 24 batteries dated to 2005. UPS is off and in bypass mode. Are 15 year old sealed lead-acid batteries a potential fire hazard?",
         "0.057",
         "0.827",
         "0.117",
         "0.8083",
         "positive"
        ],
        [
         "6",
         "g0c359t",
         "xpkranger",
         "just had them inspected by our ups provider.  they're dead as doornails.  he recommended replacing them.  i'm not keen on fixing up a 15 year old ups at the cost of a new ups.  i really only need 10 kva anyway.)",
         "['ups']",
         "i3jdwl",
         "Inheriting a 30 kVA UPS with 2 strings of 24 batteries dated to 2005. UPS is off and in bypass mode. Are 15 year old sealed lead-acid batteries a potential fire hazard?",
         "0.139",
         "0.822",
         "0.039",
         "-0.6818",
         "negative"
        ],
        [
         "7",
         "g0diyct",
         "Redebo",
         "this is good advice.  at the very least the contractor he hires to rip and replace the old ups should give him some 'credit' on his invoice for recycling the batteries.",
         "['batteries', 'ups']",
         "i3jdwl",
         "Inheriting a 30 kVA UPS with 2 strings of 24 batteries dated to 2005. UPS is off and in bypass mode. Are 15 year old sealed lead-acid batteries a potential fire hazard?",
         "0.0",
         "0.841",
         "0.159",
         "0.6705",
         "positive"
        ],
        [
         "8",
         "g0ch6c5",
         "None",
         "for future reference, there are tests that your ups guy can perform on these batteries to check voltage and internal resistance. to get a full and complete health history, you really need to know what the stats were during the first install. specs might change from battery model to battery model, but the idea is the same.\n\nfor example: \n\n* visual checks. do the batteries look to be in good health. are the sides bowing out? is there rust on the terminals? what temperature has the battery been subjected to? if you walk in to some kind of warehouse and the batteries are sitting in 110f heat, you can probably assume that's been their operating conditions for the long term and they are toast.\n* voltage checks. again, will change from battery to battery. for a normal one, they should be around 12v if they're just sitting there. if they've been charging then around 13.5v. maybe 13.7v. over 14v is likely bad for the battery. as you go lower and lower past end point voltage, the concern is that the battery will never come back into operation. if he checked them to be something like 8v and they've just been sitting there off-charge for who knows how long .. they're toast. even if they're not in service, batteries need to be charged regularly (ie: weekly or monthly depending on models). \n* internal resistance. when you install new batteries, you check internal resistance. let's say brand new ones measure 2500 μohms from positive terminal to negative terminal. as the battery ages and is in operation, that resistance will go up. it will be exponential with very small increases over the first 3-5 years, and then will start increasing very rapidly. this signals eol for a battery. usually when you see this exponential increase starting to happen, you have enough time to start ordering new batteries to get them installed. sometimes it's just a bad battery, so you have to catch it and replace that one instead of a full string. you can debate it, but a 2x increase in internal resistance from baseline is a good measure for replacing a battery. if you don't have the baseline results, you can still judge a good vs. bad battery. i've caught some facilities ignoring their batteries and you'll see some up at 16,000μohms. in all the batteries i've checked, i've only even seen new ones from 2,500 to 3,500 μohms. 16,000 is off-the-charts bad. if you put these batteries in service and put any load on them, you could literally torch them and set them on fire, exploding battery acid everywhere.",
         "['battery', 'batteries', 'acid', 'ups']",
         "i3jdwl",
         "Inheriting a 30 kVA UPS with 2 strings of 24 batteries dated to 2005. UPS is off and in bypass mode. Are 15 year old sealed lead-acid batteries a potential fire hazard?",
         "0.08",
         "0.867",
         "0.053",
         "-0.9376",
         "negative"
        ],
        [
         "9",
         "g0cjd2s",
         "marmata75",
         "you don’t need to replace like for like if you need less power. just buy less batteries for the amount of power and time you need and that’s it, you’ll need to buy batteries anyway even with a new ups!",
         "['batteries', 'ups']",
         "i3jdwl",
         "Inheriting a 30 kVA UPS with 2 strings of 24 batteries dated to 2005. UPS is off and in bypass mode. Are 15 year old sealed lead-acid batteries a potential fire hazard?",
         "0.0",
         "0.878",
         "0.122",
         "0.6476",
         "positive"
        ],
        [
         "10",
         "g0cq80n",
         "xpkranger",
         "thanks.  the batteries passed a visual inspection but it turns out the batteries are *15 years old* and have been in the unit since install.  the ups is powered off on bypass and has been for at least several years.  i don't trust the batteries as far as i can throw them.  additionally, the caps need to be replaced.  i don't want to throw good money after bad i think.",
         "['batteries', 'ups']",
         "i3jdwl",
         "Inheriting a 30 kVA UPS with 2 strings of 24 batteries dated to 2005. UPS is off and in bypass mode. Are 15 year old sealed lead-acid batteries a potential fire hazard?",
         "0.12",
         "0.808",
         "0.072",
         "-0.5908",
         "negative"
        ],
        [
         "11",
         "g0d1phk",
         "None",
         "yup. for anyone else reading, batteries under constant use should only last 3-5 years like i said above. maybe 6 years. i think i've heard 10 years under absolute ideal conditions which no one ever can operate in.",
         "['batteries']",
         "i3jdwl",
         "Inheriting a 30 kVA UPS with 2 strings of 24 batteries dated to 2005. UPS is off and in bypass mode. Are 15 year old sealed lead-acid batteries a potential fire hazard?",
         "0.051",
         "0.812",
         "0.137",
         "0.5719",
         "positive"
        ],
        [
         "12",
         "j0kivne",
         "None",
         "can your company offer it services for other companies?\n\n28 rack is huge on a home lab scale bit not too big in a data centre scale.\n\nthe cooling and power scale down nicely. on the ups you propably loose a bit more with this low load than you would do with higher loads.\nif it is modular, you may remove modules until you have the load and the required redundancy.\n\ni would just wait and see if you can use the space in-house.\n\nother:\ndo you have the right connections and a bunch of ips for the place?",
         "['ups']",
         "zng14s",
         "Empty data center (thoughts)?",
         "0.047",
         "0.9",
         "0.053",
         "0.1419",
         "positive"
        ],
        [
         "13",
         "l8lcqd9",
         "Upstairs-Hunter-4913",
         "hi all, i work in a data center as a direct recruiter. looking to hire folks in va, oh, or. for a data center technician with experience at least 1 yr in mechanical/electrical systems (ups, mep etc.) offers from $35-$46/hour max 95k (annualized) + relocation package + stocks + signon bonus+ other benefits. let's chat or call! happy to answer your questions!",
         "['ups']",
         "11m8gv3",
         "Marine Engineer looking to transition to a life on land. Would a Data Center Facilities Engineer be a good fit?",
         "0.0",
         "0.85",
         "0.15",
         "0.8856",
         "positive"
        ],
        [
         "14",
         "i33al0b",
         "affordable_firepower",
         "dcim guy here.  \n\nour electricians look after everything between the grid and the rack power strips. \nhv (10kv i think) transformer,  transfer switches, generators,  ups, batteries,  400v pdus etc. \n\non top of that,  they maintain the fire suppression system,  flood detection air handling and chillers.\n\ndata centres are very risk averse so every system will have a backup,  redundancy and resiliency,  so at every level,  we have an a and a b feed that can be switched in and out to provider constant power for the white space. \n\nthere is always one of them on call.",
         "['batteries', 'ups']",
         "tu06s2",
         "Data center electrical engineer interview",
         "0.048",
         "0.934",
         "0.018",
         "-0.4576",
         "negative"
        ],
        [
         "15",
         "l5yjfre",
         "battosai100",
         "appreciate the details in your responses. 2n+1 means you all take redundancy seriously. are your batteries vrla or lithium-ion in the ups? are your ats open-transition or closed transition?",
         "['batteries', 'lithium', 'ups', 'ion']",
         "tu06s2",
         "Data center electrical engineer interview",
         "0.054",
         "0.85",
         "0.096",
         "0.3313",
         "positive"
        ],
        [
         "16",
         "i4ap4kl",
         "SwitchOnEaton",
         "i ran this by one of our main application guys here at eaton and he shared this:\n\nwe only know of only a few demonstration sites for supercapacitor ups here in north america, but we do provide hundreds of these systems in europe and the middle east.  the typical applications are non-datacenter sites where there is critical manufacturing that would be heavily affected by even the most brief power outages.  examples are computerized sheet metal forming/stamping, and semiconductor fabrication, where only 2-15 seconds of backup is needed.  this short time allows the sensitive manufacturing equipment to disengage from the work in such a way that expensive materials are not lost or damaged, and also avoids damage to the fabrication equipment itself.  but supercapacitor systems can be paralleled, just like battery strings, to create runtimes approaching 30 seconds.  this would allow enough time for a generator to start and stabilize in a datacenter or medical lab application. \r  \n\r  \npros for supercapacitors vs. conventional batteries\r  \n1)\tlimited  acidic electrolyte, and no toxic materials or fumes.  installation not subject to stringent electrical code or building codes\r  \n2)\tvery fast recharge.  recharge time can be the same as the discharge time.\r  \n3)\tlifetime charge/discharge cycle capability is in the 100,000 range; far better than any battery.\r  \n4)\tsmall footprint\r  \n5)\tmaintenance limited to visual inspection and re-torquing of connections; good for locations where access is limited.\r  \n6)\twide operating temperature range\r  \n\r  \ncons\r  \n1)\tprice vs traditional lead or lithium ion batteries; price for 5 minutes of lithium backup is about the same as 15 sec of supercapacitor backup\r  \n2)\truntimes in practice are limited to \\~30 seconds; usually less than 10 seconds.  paralleling for longer runtime is possible.\r  \n3)\tsome ups vendors do not have field support for supercapacitor systems.",
         "['battery', 'batteries', 'lithium', 'lead', 'ups', 'ion']",
         "tzae0x",
         "Supercapacitor UPS",
         "0.084",
         "0.841",
         "0.075",
         "-0.2582",
         "negative"
        ],
        [
         "17",
         "i4b25vy",
         "b0bc",
         "thank you for this information! i'm pushing for lithium-ion to replace our current ups but my boss is dead set on supercaps no matter what. i'm just trying to gather some real world use cases / experiences. i won't share numbers but as of 2020 (i know that's 2 years ago) the supercap setup was more than 2x the cost of a lithium-ion setup. the lack of widespread use and or zero data center use at all in north america is a concern if something were to break or go wrong. we would be running 2 units in parallel for redundancy.",
         "['lithium', 'ups', 'ion']",
         "tzae0x",
         "Supercapacitor UPS",
         "0.148",
         "0.837",
         "0.015",
         "-0.9436",
         "negative"
        ],
        [
         "18",
         "i3zlt07",
         "ailyara",
         "why would you say that? you don't need a ton of runtime on a ups if your facility has diesel backup generators you just need enough runtime to get the generator online.",
         "['ups']",
         "tzae0x",
         "Supercapacitor UPS",
         "0.0",
         "1.0",
         "0.0",
         "0.0",
         "neutral"
        ],
        [
         "19",
         "i41t9fh",
         "ailyara",
         "true, the one full failure i experienced though was a failure in power transfer. shore power failed then ups took over as generator spun up per normal, but then shore power came online right as load was supposed to transfer to the generator and due to faulty equipment when it tried to switch back to shore power it blew the whole thing, causing no power to go to the equipment at all. \n\nand in that facility there were multiple generators so that a single generator failure wasn't a big deal. it was all in the power transfer. \n\nanyway i'm just saying that without doing a full cost/benefit analysis seems rather dismissive to say that supercapacitors couldn't work for datacenter facility. i honestly don't know and would rather see a full independent source on it. the stuff i have read about it all come from manufacturers of those systems, would rather see an outside assessment.",
         "['ups']",
         "tzae0x",
         "Supercapacitor UPS",
         "0.099",
         "0.866",
         "0.035",
         "-0.8674",
         "negative"
        ],
        [
         "20",
         "l6j3we9",
         "HaBlaKes",
         "from what you have experience with i wouldnt worry, i was on the it and not the mechanical side, with the rare exceptions of needing to put the bomb suit on to perform ups maintenance and a few hvac repairs, but with the systems you mentioned that covers most of a dc's equipment, i was going to say brush up on your electrical knowledge, but then i remembered, your literally coming from a nuclear plant, so...... you'll be fine.  good luck!",
         "['ups']",
         "1d50b2b",
         "Interview for Google Data Center technician (Mechanical) - What to expect?",
         "0.0",
         "0.839",
         "0.161",
         "0.9266",
         "positive"
        ],
        [
         "21",
         "lszoz9s",
         "AV-Guy1989",
         "motortrbo system.  don't go cheap on life and safety stuff.  get a repeater as well, go digital.  have installer include 6 hour battery backup for repeater.",
         "['battery']",
         "1g8n537",
         "Communications during emergency",
         "0.0",
         "0.83",
         "0.17",
         "0.5994",
         "positive"
        ],
        [
         "22",
         "jg7zkom",
         "SwitchOnEaton",
         "which ups model do you have?",
         "['ups']",
         "12kxomt",
         "Eaton Powerware ConnectUPS-X",
         "0.0",
         "1.0",
         "0.0",
         "0.0",
         "neutral"
        ],
        [
         "23",
         "jg7rw85",
         "No_Wear295",
         "good to know...  guess i've got some research to do, looks like that one is discontinued too and the replacement doesn't have our ups on the supported list.",
         "['ups']",
         "12kxomt",
         "Eaton Powerware ConnectUPS-X",
         "0.0",
         "0.765",
         "0.235",
         "0.7717",
         "positive"
        ],
        [
         "24",
         "jg7zvkz",
         "No_Wear295",
         "9155.\n\nlooks like the ups fw might be too old for the newer card.  on hold with eaton tech support right now.",
         "['ups']",
         "12kxomt",
         "Eaton Powerware ConnectUPS-X",
         "0.0",
         "0.794",
         "0.206",
         "0.6369",
         "positive"
        ],
        [
         "25",
         "jg949w4",
         "SwitchOnEaton",
         "hopefully they helped you out. this card is compatible with your 9155: https://www.eaton.com/us/en-us/catalog/backup-power-ups-surge-it-power-distribution/eaton-gigabit-industrial-gateway-card.html",
         "['ups']",
         "12kxomt",
         "Eaton Powerware ConnectUPS-X",
         "0.0",
         "0.816",
         "0.184",
         "0.4019",
         "positive"
        ],
        [
         "26",
         "jg96kit",
         "No_Wear295",
         "support was great but that card (indgw-x2) isn't compatible with our ups... the firmware on the actual ups is too old.  this was confirmed / validated by support before i started asking for pricing / availability.  apparently there's still a stock of the power xpert gateway available (pn 103007974-5591) which is compatible.",
         "['ups']",
         "12kxomt",
         "Eaton Powerware ConnectUPS-X",
         "0.0",
         "0.823",
         "0.177",
         "0.8519",
         "positive"
        ],
        [
         "27",
         "frjwnyl",
         "None",
         "i think it is pretty common to run switches and firewalls in high availability pairs connected to separate ups and generator pairs which sounds like just what you are doing.\n\nwe also run a lot of equipment on 12-48vdc using psu's in pairs with diode banks. we have had really amazing luck with puls products. we have hundreds of the [puls 12-48vdc psu](https://www.datasheetarchive.com/whats_new/fff5f31a5694bbd66a7737b5cc2c73ff.html) and [puls yr2 diode](https://www.pulspower.com/uploads/media/yr2_diode.pdf) pairs deployed and literally have never had one fail. we use these to power some 12-48vdc switches but mostly we run a pair of these psu's into a pdu to power clusters of small solid state linux clients.",
         "['ups']",
         "gp269k",
         "Redundant power feeds to equipment only having a single power supply?",
         "0.0",
         "0.889",
         "0.111",
         "0.8541",
         "positive"
        ],
        [
         "28",
         "ledhr1g",
         "rewinderz84",
         "the transition from battery engineering to data center engineering is not linear.  let alone the change from battery to mechanical/cooling/fluid.  what is your current degree and working role?\n\nan interest is great and can take you far in your reading and research but there is a necessity for base line knowledge, compression, and university studies.  \n\nare there roles for mechanical engineers to focus on high density cooling specifically? yes.  \ncan you just wake up one day and decide to be a lead engineer in this space? no",
         "['battery', 'lead']",
         "1e7slnu",
         "Data Center cooling engineer ... do that role exist",
         "0.03",
         "0.865",
         "0.106",
         "0.7359",
         "positive"
        ],
        [
         "29",
         "jwds8wk",
         "ducridefw",
         "yes you can. unfortunately i am doing it right now. we are adding batteries to the dc plant so that we can free up capacity on the ups by feeding it power that isn’t ups power.",
         "['batteries', 'ups']",
         "15sch73",
         "Can a DC plant be run behind a datacenter UPS?",
         "0.058",
         "0.797",
         "0.145",
         "0.5574",
         "positive"
        ],
        [
         "30",
         "jwettym",
         "timthewizard48",
         "i wouldn't worry too much about all the conversion steps as you are already operating the ups in a very inefficient zone (low load).",
         "['ups']",
         "15sch73",
         "Can a DC plant be run behind a datacenter UPS?",
         "0.088",
         "0.822",
         "0.09",
         "0.0109",
         "neutral"
        ],
        [
         "31",
         "jwdwxlc",
         "Ralphwiggum911",
         "your ups is only at 25%? i'd say (i'm not an electrical engineer at all so take with a lot of grains of salt), just pull off the ups. you'll have backup power and you won't need additional batteries on the dc side that would need to be maintained/swapped. \n\nmost of the data centers i've seen that are primarily ac fed gear but have some dc based equipment usually have the ac to dc gear downstream of the ups. i've seen this as small rack mount gear and 4 cabinet dc plant footprint setups.  \n\nbut as someone else said, engage an electrical engineer that specializes in data centers. you'll be glad you have the piece of mind.",
         "['batteries', 'ups']",
         "15sch73",
         "Can a DC plant be run behind a datacenter UPS?",
         "0.0",
         "0.942",
         "0.058",
         "0.7964",
         "positive"
        ],
        [
         "32",
         "jwej011",
         "Outside-Earth5715",
         "id be more than happy to help with this! would the ups be fed with ac or dc power?\nalso what is the projected load and input/output voltage along with desired runtime",
         "['ups']",
         "15sch73",
         "Can a DC plant be run behind a datacenter UPS?",
         "0.0",
         "0.762",
         "0.238",
         "0.843",
         "positive"
        ],
        [
         "33",
         "jwgujm6",
         "None",
         "[look buddy, i'm not an engineer. i solve practical problems!](https://i.imgur.com/ks2cj32.jpg)\n\nbut seriously, i'm not an engineer but after speaking with multiple field techs, engineering groups, tech support groups, and data center design reviews over the last decade or so, you should never connect a ups system down stream of another ups system. (in this sense, the dc rectifiers effectively act as a \"ups\" to the upstream ups for simplicity's sake)\n\n[eaton says a lot of things about it here](https://www.eaton.com/us/en-us/support/eaton-answers/daisy-chain-ups.html), and *some* of the concerns can be designed around, but the big ones are:\n\ninverter compatibility issues\n\n> plugging one ups into another can also spark inverter compatibility issues, where the unit closest to the load doesn’t recognize the other ups’s power as sufficient. this compels both upss go to battery, defeating the intent.\n\nincreased harmonic distortion\n\n> daisy-chaining can also force ups controllers to work against each other, leading to harmonic distortion on power lines.\n\nthd is the concerning one because you'll never figure out if you have good or bad thd without hooking up some expensive power quality equipment. it's not something you can just see.\n\nyou didn't ask about this, but it's also funny think about how daisy chained ups systems actually reduces redundancy.\n\n> however, the process of daisy-chaining actually increases the risk of ups failure by combining failure rates for the two units.\n\nhowever, here's my assumption. no one will say it's a good idea to put an inverter downstream of a rectifier because there's an infinite number of manufacturers and model numbers to consider to call it safe, especially at larger capacities. if i put a 500kw ups downstream of a 1000kw ups, that's where you'll see the real bad inverter compatibility issues. \n\nbut if you put some (comparatively) small dc rectifiers downstream of a large scale ups system? i bet the the harmonics and interference will be so small as to be negligible (as you can probably see from all the comments in this thread so far).\n\ntl;dr: talk to an engineer. they'll probably say not to do it, but hopefully give you risk factors about how high or low risk your specific scenario would be.",
         "['battery', 'ups']",
         "15sch73",
         "Can a DC plant be run behind a datacenter UPS?",
         "0.089",
         "0.804",
         "0.108",
         "0.784",
         "positive"
        ],
        [
         "34",
         "ciyyr18",
         "fullmetaljester",
         "its not terribly unusual to see raid batteries fail in batches, do you know the manuf. date on them?",
         "['batteries']",
         "2auc40",
         "Massive increase of RAID controller failures in our DC",
         "0.149",
         "0.726",
         "0.125",
         "-0.1471",
         "negative"
        ],
        [
         "35",
         "ciyz52l",
         "irrision",
         "check your firmware levels plenty of bugs that can cause higher than normal failures. when was the last time the systems were rebooted? i see the batteries fail out at a higher rate during initial boot then in running servers in all our of hp rack mounts. my best guess is the online validation of the battery isn't as fickle as the boot up checks. ",
         "['battery', 'batteries']",
         "2auc40",
         "Massive increase of RAID controller failures in our DC",
         "0.089",
         "0.853",
         "0.058",
         "-0.3182",
         "negative"
        ],
        [
         "36",
         "cizqi83",
         "miniman",
         "after a few years (3-5) hp raid card batteries start to bulge and drop voltage, they can cause all sorts of wacky issues. i would replace them with the hp supercap instead of another battery. (hp calls it fbwc instead of bbwc)",
         "['battery', 'batteries']",
         "2auc40",
         "Massive increase of RAID controller failures in our DC",
         "0.049",
         "0.951",
         "0.0",
         "-0.2732",
         "negative"
        ],
        [
         "37",
         "cjd4a0d",
         "cntrle",
         "i agree with the comments posted here - \n\n*bbus (battery backup units) tend to fail in related batches\n\n*machines that are taken out of service and stored, then put back into service have a higher incidence of bbu failure. \n\n*improper earthing can result in strange behavior with individual components in datacenter gear",
         "['battery']",
         "2auc40",
         "Massive increase of RAID controller failures in our DC",
         "0.146",
         "0.812",
         "0.042",
         "-0.7269",
         "negative"
        ],
        [
         "38",
         "cizjorl",
         "Echrome",
         "are all of the raid batteries the same age? and how often does the battery kick in to keep the card active?",
         "['battery', 'batteries']",
         "2auc40",
         "Massive increase of RAID controller failures in our DC",
         "0.0",
         "0.873",
         "0.127",
         "0.4696",
         "positive"
        ],
        [
         "39",
         "cizsrk1",
         "throwITer",
         "the two hp servers in question are around 1 year old. hp replaced both of them with a new battery card.",
         "['battery']",
         "2auc40",
         "Massive increase of RAID controller failures in our DC",
         "0.0",
         "1.0",
         "0.0",
         "0.0",
         "neutral"
        ],
        [
         "40",
         "jg2jdy8",
         "Evil_Lord_Cheese",
         "try vertiv, riello, eaton, socomec, as far as i know they each have smaller ranges than their full industrial units.\nyou could specifically target units that come with lithium batteries if a longer lifespan is important to you.",
         "['batteries', 'lithium']",
         "12ke25l",
         "Recommended IDF cabinet UPS Brand aside from APC",
         "0.0",
         "0.954",
         "0.046",
         "0.2023",
         "positive"
        ],
        [
         "41",
         "jg4aufv",
         "weedwhacked",
         "worked on all major brands replacing batteries for the last 20 years. eaton and vertiv are at the top. both still have end of life battery alarms, but are set between 4-5 years as opposed to apc 3 years. vertiv has best customer support and many times are able to troubleshoot over the phone if needed. i think you are able to reset end of life alarms on vertiv units through hmi. eaton units i'm not so sure about. hope this helps.",
         "['battery', 'batteries']",
         "12ke25l",
         "Recommended IDF cabinet UPS Brand aside from APC",
         "0.073",
         "0.718",
         "0.209",
         "0.9412",
         "positive"
        ],
        [
         "42",
         "jg6m3d3",
         "NapoleonDK",
         "of a hundred or so rackmount ups in the fleet over the past 10+ years, i’ve seen around 10 failures in apc products and maybe 3 eatons. those 3 eatons were all their old rebranded mx 5000 units. i’ve never had a 9px or 5px fail on me, but i did have one 9px show up with internal batteries that were too dead for the charger to even detect and allow a charge. eaton sent out a new string immediately.\n\nmy sample size of liebert/vertiv rackmount ups is too small to be relevant. no failures in <10 units.\n\neaton all the way.",
         "['batteries', 'ups']",
         "12ke25l",
         "Recommended IDF cabinet UPS Brand aside from APC",
         "0.09",
         "0.86",
         "0.049",
         "-0.6838",
         "negative"
        ],
        [
         "43",
         "jg3ijum",
         "ghostalker4742",
         "if it's the battery lifetime alert, that can be modified in a config file. i always hated how apc put in a countdown that would alert you when it's time to buy batteries. they seem set on a 3yr replacement plan for all circumstances, but we've bumped that to 4-5yrs without any issue.",
         "['battery', 'batteries']",
         "12ke25l",
         "Recommended IDF cabinet UPS Brand aside from APC",
         "0.047",
         "0.896",
         "0.057",
         "-0.1027",
         "negative"
        ],
        [
         "44",
         "jg80k4n",
         "SwitchOnEaton",
         "chiming in here with a link for the eaton 9px ups--it's online double conversion from 1 to 22 kva. for longer battery life, you may want to check out the lithium-ion models. they cost more up front but last 8-10 years. there's a new 6 kva lithium-ion model coming out pretty soon. [https://www.eaton.com/gb/en-gb/catalog/backup-power-ups-surge-it-power-distribution/eaton-9px-1-3kva-ups.html](https://www.eaton.com/gb/en-gb/catalog/backup-power-ups-surge-it-power-distribution/eaton-9px-1-3kva-ups.html)  not sure where you're located but these are the 230v models.",
         "['battery', 'lithium', 'ups', 'ion']",
         "12ke25l",
         "Recommended IDF cabinet UPS Brand aside from APC",
         "0.035",
         "0.885",
         "0.079",
         "0.4601",
         "positive"
        ],
        [
         "45",
         "jm8lo0g",
         "None",
         "does eaton still insist on pushing ups units that are of only 0.9 power factor? had issues with them in asia when all the competition was doing unity power factor",
         "['ups']",
         "12ke25l",
         "Recommended IDF cabinet UPS Brand aside from APC",
         "0.0",
         "1.0",
         "0.0",
         "0.0",
         "neutral"
        ],
        [
         "46",
         "h7o3vee",
         "spanctimony",
         "lol, buddy….\n\nso 10kw, a minimum of what, 10 hours a day that you need to run off battery?\n\nso 100kwh worth of storage at a minimum. looks like you need about 8 tesla powerwalls. \n\nor you could get a ups that is the size of about four racks.\n\neither way this is going to cost well into the six figures to do properly.",
         "['battery', 'ups']",
         "oxnknb",
         "Rackmountable deep-cycle batteries for a 100% renewable footprint",
         "0.0",
         "0.862",
         "0.138",
         "0.8214",
         "positive"
        ],
        [
         "47",
         "h7pmosw",
         "None",
         "one more thing to consider is how much backup time you'd be designing for. do you want to run on solar during several cloudy winter days in a row?  in that case plan for a battery bank for at least 5 days: 5x24x10kwh -1mwh. and a much bigger dolar array.\nalso take into account cooling loads.\n\nadding some wind capacity for diversity might help a little. \n\n you can look up remote off grid telecom sites for reference for this kind of use case. although they are often paired with a genset\n\nanyway, off grid solar rarely makes any sense if grid is present.",
         "['battery']",
         "oxnknb",
         "Rackmountable deep-cycle batteries for a 100% renewable footprint",
         "0.0",
         "0.962",
         "0.038",
         "0.4588",
         "positive"
        ],
        [
         "48",
         "h7s7eyr",
         "Simuo",
         "of course it's feasible. tesla made mega battery for city, your application is piece of cake - from technology perspective.\n\nnow come to the implementation aspect of this idea:\n\nan 1u battery pack (full of li-ion 18650 cells) would power a 10kw load for about 10mins. so to run it at night (12hr from sunset to sunrise) would be 720mins, or 72u size battery pack. plus you need an inverter to transform battery dc output to ac 220v, your battery would be the size of two racks. i don't have the calculation of the solar panel that charges the battery. you'd need to ensure your battery could weather the storm that block the sunshine, so i think you'd need at least tripple your equipment",
         "['battery', 'li-ion', 'ion']",
         "oxnknb",
         "Rackmountable deep-cycle batteries for a 100% renewable footprint",
         "0.038",
         "0.917",
         "0.044",
         "0.2023",
         "positive"
        ],
        [
         "49",
         "h7od1cd",
         "ghostalker4742",
         "average solar panels deliver ~150w per m^2. so you'd need ~67m^2 of solar panels to get 10kw of power just to run your setup. to charge your batteries for the night cycle, while running your daytime operation, means you'd have to double the size of your solar field to ~130m^2 (roughly a 12m x 12m square field).\n\nperusing through schneider's site, they calculate that to hold up 10kw for *half the night* (5hrs), would call for something like [one of these](https://www.apc.com/shop/us/en/products/apc-symmetra-lx-16kva-scalable-to-16kva-n-1-rack-mount-208-240v/p-sya16k16rmp) and [six of these](https://www.apc.com/shop/us/en/products/apc-symmetra-lx-extended-run-rack-mount-w-9-sybt5-208v/p-syarmxr9b9)...  or [one of these](https://www.apc.com/shop/us/en/products/symmetra-px-10kw-scalable-to-100kw-208v-with-startup/p-sy10k100f) and [three of these](https://www.apc.com/shop/us/en/products/apc-symmetra-px-battery-frame-for-400v-px-96-160kw-208v-px-100kw-for-9-battery-modules/p-sycfxr9).\n\nit's a fun shower thought, and while it can be done, i don't think batteries/energy storage tech is where it needs to be to make this a practical deployment. the two biggest issues here are a) do you really need all 10kw? and b) do you need it running 24x7? if this could be scaled down to 5kw... and maybe 2-3kw at night, i think you could build this for a reasonable amount.",
         "['battery', 'batteries']",
         "oxnknb",
         "Rackmountable deep-cycle batteries for a 100% renewable footprint",
         "0.0",
         "0.964",
         "0.036",
         "0.7319",
         "positive"
        ]
       ],
       "shape": {
        "columns": 11,
        "rows": 268
       }
      },
      "text/html": [
       "<div>\n",
       "<style scoped>\n",
       "    .dataframe tbody tr th:only-of-type {\n",
       "        vertical-align: middle;\n",
       "    }\n",
       "\n",
       "    .dataframe tbody tr th {\n",
       "        vertical-align: top;\n",
       "    }\n",
       "\n",
       "    .dataframe thead th {\n",
       "        text-align: right;\n",
       "    }\n",
       "</style>\n",
       "<table border=\"1\" class=\"dataframe\">\n",
       "  <thead>\n",
       "    <tr style=\"text-align: right;\">\n",
       "      <th></th>\n",
       "      <th>comment_id</th>\n",
       "      <th>author</th>\n",
       "      <th>text</th>\n",
       "      <th>matched_terms</th>\n",
       "      <th>submission_id</th>\n",
       "      <th>submission_title</th>\n",
       "      <th>neg</th>\n",
       "      <th>neu</th>\n",
       "      <th>pos</th>\n",
       "      <th>compound</th>\n",
       "      <th>sentiment_label</th>\n",
       "    </tr>\n",
       "  </thead>\n",
       "  <tbody>\n",
       "    <tr>\n",
       "      <th>0</th>\n",
       "      <td>g0bu3y5</td>\n",
       "      <td>ghostalker47423</td>\n",
       "      <td>do a visual inspection, and if you see any lea...</td>\n",
       "      <td>[batteries]</td>\n",
       "      <td>i3jdwl</td>\n",
       "      <td>Inheriting a 30 kVA UPS with 2 strings of 24 b...</td>\n",
       "      <td>0.084</td>\n",
       "      <td>0.873</td>\n",
       "      <td>0.043</td>\n",
       "      <td>-0.4215</td>\n",
       "      <td>negative</td>\n",
       "    </tr>\n",
       "    <tr>\n",
       "      <th>1</th>\n",
       "      <td>g0diub1</td>\n",
       "      <td>Redebo</td>\n",
       "      <td>disconnect the battery strings via the associa...</td>\n",
       "      <td>[battery, batteries, ups]</td>\n",
       "      <td>i3jdwl</td>\n",
       "      <td>Inheriting a 30 kVA UPS with 2 strings of 24 b...</td>\n",
       "      <td>0.011</td>\n",
       "      <td>0.889</td>\n",
       "      <td>0.100</td>\n",
       "      <td>0.8366</td>\n",
       "      <td>positive</td>\n",
       "    </tr>\n",
       "    <tr>\n",
       "      <th>2</th>\n",
       "      <td>g0dtxqg</td>\n",
       "      <td>letsbebuns</td>\n",
       "      <td>the batteries should be removed based on age. ...</td>\n",
       "      <td>[batteries, lead, acid, ups]</td>\n",
       "      <td>i3jdwl</td>\n",
       "      <td>Inheriting a 30 kVA UPS with 2 strings of 24 b...</td>\n",
       "      <td>0.029</td>\n",
       "      <td>0.971</td>\n",
       "      <td>0.000</td>\n",
       "      <td>-0.2617</td>\n",
       "      <td>negative</td>\n",
       "    </tr>\n",
       "    <tr>\n",
       "      <th>3</th>\n",
       "      <td>g0ebpdx</td>\n",
       "      <td>looktowindward</td>\n",
       "      <td>yes, they are a safety hazard. you should call...</td>\n",
       "      <td>[battery]</td>\n",
       "      <td>i3jdwl</td>\n",
       "      <td>Inheriting a 30 kVA UPS with 2 strings of 24 b...</td>\n",
       "      <td>0.000</td>\n",
       "      <td>0.718</td>\n",
       "      <td>0.282</td>\n",
       "      <td>0.6705</td>\n",
       "      <td>positive</td>\n",
       "    </tr>\n",
       "    <tr>\n",
       "      <th>4</th>\n",
       "      <td>g0euygg</td>\n",
       "      <td>xpkranger</td>\n",
       "      <td>i’m going to get rid of them, waiting on a quo...</td>\n",
       "      <td>[batteries]</td>\n",
       "      <td>i3jdwl</td>\n",
       "      <td>Inheriting a 30 kVA UPS with 2 strings of 24 b...</td>\n",
       "      <td>0.000</td>\n",
       "      <td>0.807</td>\n",
       "      <td>0.193</td>\n",
       "      <td>0.7351</td>\n",
       "      <td>positive</td>\n",
       "    </tr>\n",
       "    <tr>\n",
       "      <th>...</th>\n",
       "      <td>...</td>\n",
       "      <td>...</td>\n",
       "      <td>...</td>\n",
       "      <td>...</td>\n",
       "      <td>...</td>\n",
       "      <td>...</td>\n",
       "      <td>...</td>\n",
       "      <td>...</td>\n",
       "      <td>...</td>\n",
       "      <td>...</td>\n",
       "      <td>...</td>\n",
       "    </tr>\n",
       "    <tr>\n",
       "      <th>263</th>\n",
       "      <td>frhl2ew</td>\n",
       "      <td>swedishhat</td>\n",
       "      <td>to be fair, full 19in eia racks with ups's are...</td>\n",
       "      <td>[ups]</td>\n",
       "      <td>femyhi</td>\n",
       "      <td>Does anyone here use OCP hardware in their dat...</td>\n",
       "      <td>0.000</td>\n",
       "      <td>0.944</td>\n",
       "      <td>0.056</td>\n",
       "      <td>0.7391</td>\n",
       "      <td>positive</td>\n",
       "    </tr>\n",
       "    <tr>\n",
       "      <th>264</th>\n",
       "      <td>kih1o5a</td>\n",
       "      <td>None</td>\n",
       "      <td>&gt; finally adding your future generator? ah ha ...</td>\n",
       "      <td>[lead]</td>\n",
       "      <td>199drs1</td>\n",
       "      <td>How can a Field Controls Engineer get PLC Prog...</td>\n",
       "      <td>0.056</td>\n",
       "      <td>0.892</td>\n",
       "      <td>0.052</td>\n",
       "      <td>-0.1779</td>\n",
       "      <td>negative</td>\n",
       "    </tr>\n",
       "    <tr>\n",
       "      <th>265</th>\n",
       "      <td>g9583fq</td>\n",
       "      <td>Redebo</td>\n",
       "      <td>you might ask your provider if they have some ...</td>\n",
       "      <td>[battery]</td>\n",
       "      <td>jcvdpk</td>\n",
       "      <td>Floor protection in data center</td>\n",
       "      <td>0.000</td>\n",
       "      <td>0.940</td>\n",
       "      <td>0.060</td>\n",
       "      <td>0.2732</td>\n",
       "      <td>positive</td>\n",
       "    </tr>\n",
       "    <tr>\n",
       "      <th>266</th>\n",
       "      <td>mmhd66m</td>\n",
       "      <td>AlligatorDan</td>\n",
       "      <td>the engineering mindset on youtube is a great ...</td>\n",
       "      <td>[ups]</td>\n",
       "      <td>1jw4mql</td>\n",
       "      <td>Amazon DCEO</td>\n",
       "      <td>0.013</td>\n",
       "      <td>0.827</td>\n",
       "      <td>0.160</td>\n",
       "      <td>0.9764</td>\n",
       "      <td>positive</td>\n",
       "    </tr>\n",
       "    <tr>\n",
       "      <th>267</th>\n",
       "      <td>mmgzvfn</td>\n",
       "      <td>Lucky_Luciano73</td>\n",
       "      <td>amazon has hired ex-navy guys that we work wit...</td>\n",
       "      <td>[ups]</td>\n",
       "      <td>1jw4mql</td>\n",
       "      <td>Amazon DCEO</td>\n",
       "      <td>0.092</td>\n",
       "      <td>0.718</td>\n",
       "      <td>0.190</td>\n",
       "      <td>0.6486</td>\n",
       "      <td>positive</td>\n",
       "    </tr>\n",
       "  </tbody>\n",
       "</table>\n",
       "<p>268 rows × 11 columns</p>\n",
       "</div>"
      ],
      "text/plain": [
       "    comment_id           author  \\\n",
       "0      g0bu3y5  ghostalker47423   \n",
       "1      g0diub1           Redebo   \n",
       "2      g0dtxqg       letsbebuns   \n",
       "3      g0ebpdx   looktowindward   \n",
       "4      g0euygg        xpkranger   \n",
       "..         ...              ...   \n",
       "263    frhl2ew       swedishhat   \n",
       "264    kih1o5a             None   \n",
       "265    g9583fq           Redebo   \n",
       "266    mmhd66m     AlligatorDan   \n",
       "267    mmgzvfn  Lucky_Luciano73   \n",
       "\n",
       "                                                  text  \\\n",
       "0    do a visual inspection, and if you see any lea...   \n",
       "1    disconnect the battery strings via the associa...   \n",
       "2    the batteries should be removed based on age. ...   \n",
       "3    yes, they are a safety hazard. you should call...   \n",
       "4    i’m going to get rid of them, waiting on a quo...   \n",
       "..                                                 ...   \n",
       "263  to be fair, full 19in eia racks with ups's are...   \n",
       "264  > finally adding your future generator? ah ha ...   \n",
       "265  you might ask your provider if they have some ...   \n",
       "266  the engineering mindset on youtube is a great ...   \n",
       "267  amazon has hired ex-navy guys that we work wit...   \n",
       "\n",
       "                    matched_terms submission_id  \\\n",
       "0                     [batteries]        i3jdwl   \n",
       "1       [battery, batteries, ups]        i3jdwl   \n",
       "2    [batteries, lead, acid, ups]        i3jdwl   \n",
       "3                       [battery]        i3jdwl   \n",
       "4                     [batteries]        i3jdwl   \n",
       "..                            ...           ...   \n",
       "263                         [ups]        femyhi   \n",
       "264                        [lead]       199drs1   \n",
       "265                     [battery]        jcvdpk   \n",
       "266                         [ups]       1jw4mql   \n",
       "267                         [ups]       1jw4mql   \n",
       "\n",
       "                                      submission_title    neg    neu    pos  \\\n",
       "0    Inheriting a 30 kVA UPS with 2 strings of 24 b...  0.084  0.873  0.043   \n",
       "1    Inheriting a 30 kVA UPS with 2 strings of 24 b...  0.011  0.889  0.100   \n",
       "2    Inheriting a 30 kVA UPS with 2 strings of 24 b...  0.029  0.971  0.000   \n",
       "3    Inheriting a 30 kVA UPS with 2 strings of 24 b...  0.000  0.718  0.282   \n",
       "4    Inheriting a 30 kVA UPS with 2 strings of 24 b...  0.000  0.807  0.193   \n",
       "..                                                 ...    ...    ...    ...   \n",
       "263  Does anyone here use OCP hardware in their dat...  0.000  0.944  0.056   \n",
       "264  How can a Field Controls Engineer get PLC Prog...  0.056  0.892  0.052   \n",
       "265                    Floor protection in data center  0.000  0.940  0.060   \n",
       "266                                        Amazon DCEO  0.013  0.827  0.160   \n",
       "267                                        Amazon DCEO  0.092  0.718  0.190   \n",
       "\n",
       "     compound sentiment_label  \n",
       "0     -0.4215        negative  \n",
       "1      0.8366        positive  \n",
       "2     -0.2617        negative  \n",
       "3      0.6705        positive  \n",
       "4      0.7351        positive  \n",
       "..        ...             ...  \n",
       "263    0.7391        positive  \n",
       "264   -0.1779        negative  \n",
       "265    0.2732        positive  \n",
       "266    0.9764        positive  \n",
       "267    0.6486        positive  \n",
       "\n",
       "[268 rows x 11 columns]"
      ]
     },
     "execution_count": 16,
     "metadata": {},
     "output_type": "execute_result"
    }
   ],
   "source": [
    "df"
   ]
  },
  {
   "cell_type": "markdown",
   "id": "b230cce0",
   "metadata": {},
   "source": [
    "# Hugging Face approach"
   ]
  },
  {
   "cell_type": "code",
   "execution_count": 17,
   "id": "c47a9c59",
   "metadata": {},
   "outputs": [],
   "source": [
    "from transformers import AutoTokenizer\n",
    "from transformers import AutoModelForSequenceClassification\n",
    "from scipy.special import softmax"
   ]
  },
  {
   "cell_type": "markdown",
   "id": "8a69cc9e",
   "metadata": {},
   "source": [
    "## model is being trained on the twitter data"
   ]
  },
  {
   "cell_type": "code",
   "execution_count": 18,
   "id": "e2d75aaf",
   "metadata": {},
   "outputs": [],
   "source": [
    "MODEL = f'cardiffnlp/twitter-roberta-base-sentiment'\n",
    "tokenizer = AutoTokenizer.from_pretrained(MODEL)\n",
    "model = AutoModelForSequenceClassification.from_pretrained(MODEL)"
   ]
  },
  {
   "cell_type": "code",
   "execution_count": 19,
   "id": "5d775a40",
   "metadata": {},
   "outputs": [],
   "source": [
    "encoded_text = tokenizer(example,return_tensors='pt')\n",
    "output = model(**encoded_text)\n",
    "scores = output[0][0].detach().numpy()\n",
    "scores = softmax(scores)"
   ]
  },
  {
   "cell_type": "code",
   "execution_count": 20,
   "id": "208281fd",
   "metadata": {},
   "outputs": [],
   "source": [
    "scores_dict = {\n",
    "    'roberta_neg': scores[0],\n",
    "    'roberta_neutral': scores[1],\n",
    "    'roberta_post': scores[2]\n",
    "}"
   ]
  },
  {
   "cell_type": "code",
   "execution_count": 21,
   "id": "cc56bca1",
   "metadata": {},
   "outputs": [
    {
     "name": "stdout",
     "output_type": "stream",
     "text": [
      "{'roberta_neg': 0.07787177, 'roberta_neutral': 0.6052092, 'roberta_post': 0.31691906}\n",
      "{'neg': 0.011, 'neu': 0.889, 'pos': 0.1, 'compound': 0.8366}\n"
     ]
    }
   ],
   "source": [
    "print(scores_dict)\n",
    "print(ex_sent)"
   ]
  },
  {
   "cell_type": "code",
   "execution_count": 22,
   "id": "9c6718a9",
   "metadata": {},
   "outputs": [],
   "source": [
    "from scipy.special import softmax\n",
    "\n",
    "def polarity_scores_roberta(text):\n",
    "    encoded_text = tokenizer(\n",
    "        text,\n",
    "        return_tensors='pt',\n",
    "        truncation=True,       # THIS is what prevents the crash\n",
    "        max_length=512,\n",
    "        padding=True\n",
    "    )\n",
    "    output = model(**encoded_text)\n",
    "    scores = output[0][0].detach().numpy()\n",
    "    scores = softmax(scores)\n",
    "    labels = ['negative', 'neutral', 'positive']\n",
    "    return labels[scores.argmax()], scores.max()\n"
   ]
  },
  {
   "cell_type": "code",
   "execution_count": 23,
   "id": "6d06bca3",
   "metadata": {},
   "outputs": [],
   "source": [
    "df[['roberta_label', 'roberta_score']] = df['text'].apply(\n",
    "    lambda x: pd.Series(polarity_scores_roberta(x))\n",
    ")\n"
   ]
  },
  {
   "cell_type": "code",
   "execution_count": 24,
   "id": "4f5802a7",
   "metadata": {},
   "outputs": [
    {
     "data": {
      "application/vnd.microsoft.datawrangler.viewer.v0+json": {
       "columns": [
        {
         "name": "index",
         "rawType": "int64",
         "type": "integer"
        },
        {
         "name": "comment_id",
         "rawType": "object",
         "type": "string"
        },
        {
         "name": "author",
         "rawType": "object",
         "type": "string"
        },
        {
         "name": "text",
         "rawType": "object",
         "type": "string"
        },
        {
         "name": "matched_terms",
         "rawType": "object",
         "type": "unknown"
        },
        {
         "name": "submission_id",
         "rawType": "object",
         "type": "string"
        },
        {
         "name": "submission_title",
         "rawType": "object",
         "type": "string"
        },
        {
         "name": "neg",
         "rawType": "float64",
         "type": "float"
        },
        {
         "name": "neu",
         "rawType": "float64",
         "type": "float"
        },
        {
         "name": "pos",
         "rawType": "float64",
         "type": "float"
        },
        {
         "name": "compound",
         "rawType": "float64",
         "type": "float"
        },
        {
         "name": "sentiment_label",
         "rawType": "object",
         "type": "string"
        },
        {
         "name": "roberta_label",
         "rawType": "object",
         "type": "string"
        },
        {
         "name": "roberta_score",
         "rawType": "float32",
         "type": "float"
        }
       ],
       "conversionMethod": "pd.DataFrame",
       "ref": "d5313a7a-8b64-4a12-a47e-a2ec2fd76cea",
       "rows": [
        [
         "0",
         "g0bu3y5",
         "ghostalker47423",
         "do a visual inspection, and if you see any leaking or bulging, chuck them out. everything else is safe. sla batteries can sit around practically forever - even the big ones - as long as they're not being used as a doorstop or wheel chokes.\n\nas for whether they work, hold a charge, how much of a charge (etc)... that's another problem.",
         "['batteries']",
         "i3jdwl",
         "Inheriting a 30 kVA UPS with 2 strings of 24 batteries dated to 2005. UPS is off and in bypass mode. Are 15 year old sealed lead-acid batteries a potential fire hazard?",
         "0.084",
         "0.873",
         "0.043",
         "-0.4215",
         "negative",
         "negative",
         "0.45859557"
        ]
       ],
       "shape": {
        "columns": 13,
        "rows": 1
       }
      },
      "text/html": [
       "<div>\n",
       "<style scoped>\n",
       "    .dataframe tbody tr th:only-of-type {\n",
       "        vertical-align: middle;\n",
       "    }\n",
       "\n",
       "    .dataframe tbody tr th {\n",
       "        vertical-align: top;\n",
       "    }\n",
       "\n",
       "    .dataframe thead th {\n",
       "        text-align: right;\n",
       "    }\n",
       "</style>\n",
       "<table border=\"1\" class=\"dataframe\">\n",
       "  <thead>\n",
       "    <tr style=\"text-align: right;\">\n",
       "      <th></th>\n",
       "      <th>comment_id</th>\n",
       "      <th>author</th>\n",
       "      <th>text</th>\n",
       "      <th>matched_terms</th>\n",
       "      <th>submission_id</th>\n",
       "      <th>submission_title</th>\n",
       "      <th>neg</th>\n",
       "      <th>neu</th>\n",
       "      <th>pos</th>\n",
       "      <th>compound</th>\n",
       "      <th>sentiment_label</th>\n",
       "      <th>roberta_label</th>\n",
       "      <th>roberta_score</th>\n",
       "    </tr>\n",
       "  </thead>\n",
       "  <tbody>\n",
       "    <tr>\n",
       "      <th>0</th>\n",
       "      <td>g0bu3y5</td>\n",
       "      <td>ghostalker47423</td>\n",
       "      <td>do a visual inspection, and if you see any lea...</td>\n",
       "      <td>[batteries]</td>\n",
       "      <td>i3jdwl</td>\n",
       "      <td>Inheriting a 30 kVA UPS with 2 strings of 24 b...</td>\n",
       "      <td>0.084</td>\n",
       "      <td>0.873</td>\n",
       "      <td>0.043</td>\n",
       "      <td>-0.4215</td>\n",
       "      <td>negative</td>\n",
       "      <td>negative</td>\n",
       "      <td>0.458596</td>\n",
       "    </tr>\n",
       "  </tbody>\n",
       "</table>\n",
       "</div>"
      ],
      "text/plain": [
       "  comment_id           author  \\\n",
       "0    g0bu3y5  ghostalker47423   \n",
       "\n",
       "                                                text matched_terms  \\\n",
       "0  do a visual inspection, and if you see any lea...   [batteries]   \n",
       "\n",
       "  submission_id                                   submission_title    neg  \\\n",
       "0        i3jdwl  Inheriting a 30 kVA UPS with 2 strings of 24 b...  0.084   \n",
       "\n",
       "     neu    pos  compound sentiment_label roberta_label  roberta_score  \n",
       "0  0.873  0.043   -0.4215        negative      negative       0.458596  "
      ]
     },
     "execution_count": 24,
     "metadata": {},
     "output_type": "execute_result"
    }
   ],
   "source": [
    "df.head(1)"
   ]
  },
  {
   "cell_type": "code",
   "execution_count": 25,
   "id": "9c5c5906",
   "metadata": {},
   "outputs": [],
   "source": [
    "df_exploded = df.explode('matched_terms')"
   ]
  },
  {
   "cell_type": "code",
   "execution_count": 26,
   "id": "87d8c10b",
   "metadata": {},
   "outputs": [
    {
     "data": {
      "image/png": "[encoded data removed]",
      "text/plain": [
       "<Figure size 600x400 with 1 Axes>"
      ]
     },
     "metadata": {},
     "output_type": "display_data"
    },
    {
     "data": {
      "image/png": "[encoded data removed]",
      "text/plain": [
       "<Figure size 800x500 with 1 Axes>"
      ]
     },
     "metadata": {},
     "output_type": "display_data"
    }
   ],
   "source": [
    "# Group by label to visualize distribution\n",
    "label_counts = df['roberta_label'].value_counts()\n",
    "\n",
    "# Plot sentiment label distribution\n",
    "plt.figure(figsize=(6, 4))\n",
    "label_counts.plot(kind='bar', color='skyblue')\n",
    "plt.title(\"RoBERTa Sentiment Label Distribution\")\n",
    "plt.xlabel(\"Sentiment\")\n",
    "plt.ylabel(\"Count\")\n",
    "plt.xticks(rotation=0)\n",
    "plt.grid(axis='y')\n",
    "plt.tight_layout()\n",
    "plt.show()\n",
    "\n",
    "# Plot average sentiment score by battery type\n",
    "avg_score_by_term = df_exploded.groupby('matched_terms')['roberta_score'].mean().sort_values()\n",
    "\n",
    "plt.figure(figsize=(8, 5))\n",
    "avg_score_by_term.plot(kind='barh', color='salmon')\n",
    "plt.title(\"Average RoBERTa Sentiment Score by Battery Term\")\n",
    "plt.xlabel(\"Average Score\")\n",
    "plt.ylabel(\"Battery Term\")\n",
    "plt.grid(axis='x')\n",
    "plt.tight_layout()\n",
    "plt.show()"
   ]
  },
  {
   "cell_type": "code",
   "execution_count": 27,
   "id": "5bd69f98",
   "metadata": {},
   "outputs": [
    {
     "data": {
      "text/plain": [
       "<Figure size 1000x600 with 0 Axes>"
      ]
     },
     "metadata": {},
     "output_type": "display_data"
    },
    {
     "data": {
      "image/png": "[encoded data removed]",
      "text/plain": [
       "<Figure size 1000x600 with 1 Axes>"
      ]
     },
     "metadata": {},
     "output_type": "display_data"
    },
    {
     "data": {
      "application/vnd.microsoft.datawrangler.viewer.v0+json": {
       "columns": [
        {
         "name": "index",
         "rawType": "int64",
         "type": "integer"
        },
        {
         "name": "matched_terms",
         "rawType": "object",
         "type": "string"
        },
        {
         "name": "text_most_positive",
         "rawType": "object",
         "type": "string"
        },
        {
         "name": "roberta_score_most_positive",
         "rawType": "float32",
         "type": "float"
        },
        {
         "name": "text_most_negative",
         "rawType": "object",
         "type": "string"
        },
        {
         "name": "roberta_score_most_negative",
         "rawType": "float32",
         "type": "float"
        }
       ],
       "conversionMethod": "pd.DataFrame",
       "ref": "3a65c815-4421-436f-a78a-1318a916a53a",
       "rows": [
        [
         "0",
         "acid",
         "actually, many ups', especially dc grade ups', do not use lithium, they use lead-acid or more durable battery compositions. lithium is not only expensive, it is inappropriate in most regards for dc class ups design. the lifespan is too short, the discharge and maximum charge behaviour is too problematic, and naturally, it leads to fires that require special substances to put out (d class extinguishers in my part of the world).\n\nthat is, ovh _might_ have used lithium ups', but i _doubt_ it.\n\nalso, i just checked, the article doesn't have the word \"lithium\" anywhere in it.",
         "0.8598888",
         "\"no such thing as a data center that's too cold\" is a pretty wrong answer. \n\nbatteries are all different but 77f is a good temp to remember if you're interesting in the longevity and effectiveness of your lead acid batteries. colder and your capacity goes down. hotter and your lifespan goes down. it's a happy medium. lithium ion or other batteries are expanded from that.\n\nas you said, too cold and you'll get condensation possibly. depends on dewpoint and humidity and all that. plus you're needlessly forking over money when it's really your airflow that's more important. \n\ni'll take 80f air with constant and adequate airflow through all the servers, over 65f with fucked up airflow management. full cold/hot aisle containment and dp sensors between server inlet / server outlet to control fans would be awesome.",
         "0.4550555"
        ],
        [
         "1",
         "batteries",
         "that'll prove to be a disaster if the batteries fail in advance of the server refresh cycle.",
         "0.9457125",
         "this may have been the consensus 5 years ago.\nbut lithium batteries are now considered a mature technology and the advantages are too numerous to ignore it's no longer a straight yes/no answer. everyone's biz case and risk tolerance is different. the past 3 years i've been involved in building 3 new dcs (all different colos) that utilize ups with lithium batteries\n\nlonger lifespan, handles more discharge cycles, higher energy density leading to a smaller footprint and higher operating temperatures.\n\nof course the big risk here is an out of control fire. which is why its not a good idea to retrofit these into existing sites out with adding in addition fire protection measures and fire compartmentalization.",
         "0.43610293"
        ],
        [
         "2",
         "battery",
         "are all of the raid batteries the same age? and how often does the battery kick in to keep the card active?",
         "0.9134892",
         "i handle all field ups units for a large trucking company.  i rebuild all the battery packs that i have trays/wires for.  it definitely is worth it.  \n\ni go strictly with csb.  purchase them through portablepower.com.  you'll need gp12170 batteries.  i used to use \"universal batteries\"...they are crap.  yausa is a good brand.",
         "0.44634482"
        ],
        [
         "3",
         "ion",
         "yes, it is detailed in their site that the mv input is stepped down to lv for power conversion and storage - so the rectifiers operate in normal lv, battery strings are conventional li-ion, and inverters convert that normal lv dc back to ac before it's stepped up for mv output.",
         "0.8651843",
         "\"no such thing as a data center that's too cold\" is a pretty wrong answer. \n\nbatteries are all different but 77f is a good temp to remember if you're interesting in the longevity and effectiveness of your lead acid batteries. colder and your capacity goes down. hotter and your lifespan goes down. it's a happy medium. lithium ion or other batteries are expanded from that.\n\nas you said, too cold and you'll get condensation possibly. depends on dewpoint and humidity and all that. plus you're needlessly forking over money when it's really your airflow that's more important. \n\ni'll take 80f air with constant and adequate airflow through all the servers, over 65f with fucked up airflow management. full cold/hot aisle containment and dp sensors between server inlet / server outlet to control fans would be awesome.",
         "0.4550555"
        ],
        [
         "4",
         "lead",
         "first of all, taking on those data center moves with no prior experience-that’s impressive. the skills you’ve picked up so far, like rack deinstalls, ip configurations, etc., are really valuable in the dc industry, and there’s definitely a solid future in this field. plus, companies working in data centers and cloud infrastructure tend to pay well as you build experience. that said, it does depend on what you're more passionate about. if project management in music or construction is your end goal, it’s worth looking into. but if you’re finding the it side interesting, it can lead to a strong career path especially since this type of work is always in demand. honestly, a job is a job at the end of the day, and if your earning potential is higher by leveraging the existing skills you have - why not pursue your passions on the side while still getting good pay?",
         "0.944411",
         "it really depends op, working at a dc is great especially if you're doing it at a high level but it's pretty awful at the base level. you pay your dues one of two ways as others have mentioned; grueling work ie splicing or cabling or menial ones ie call center.\n\n\ngetting into the company is the best way. doesn't matter who or where just get in with someone and make sure you have very low expectations. i happen to love what i do and have effectively lived at work for many many months doing 112+ hr shifts and been paid handsomely for it but it is not for everyone the pay is frankly bad unless you start moving into a sme role.\n\n\ni started in a call center role at a large telco and leveraged my ability to transfer roles since we were union represented. sheer dumb luck is how i spent almost 10 years working in a dc that specialized in cdns. wife had a job opportunity in another state and given my skill set by that point is interchangable i ended up at one of the smaller exascaler.\n\n\nagain sheer luck it turned out because of all the crazy things i dealt with working at the telco being incredibly good at root level fault isolation. thus i ended up being out regions sme on gpu accelerated ai devices because no one else wanted to do it or learn it.\n\n\nthat then led to me being asked to lead the company's first ai project from the dc level. ended up spending a year at that site in hotels making double my base pay in overtime alone. i was in literally every engineering meeting and ended up getting vp and ceo visibility as a result which then led to 2 months doing another site in japan. currently culminating with my next payday being directly asked to train and recruit for stargate.\n\n\ni say this because if you're good you'll find out quickly. if you are good the main way to advance is by being (at least on the outside) completely unfazed by anything and being really flexible both in time and deadlines.\n\n\nif you aren't willing or capable to do 16 hour days for weeks or months at a time this is not the job for you. if you get flustered by impossible deadlines and can't make it work same deal. so many good people are crippled by shitty attitudes. the only way to get ahead in this industry is be a vulture and make the bodies disappear.",
         "0.4078463"
        ],
        [
         "5",
         "li-ion",
         "yes, it is detailed in their site that the mv input is stepped down to lv for power conversion and storage - so the rectifiers operate in normal lv, battery strings are conventional li-ion, and inverters convert that normal lv dc back to ac before it's stepped up for mv output.",
         "0.8651843",
         "of course it's feasible. tesla made mega battery for city, your application is piece of cake - from technology perspective.\n\nnow come to the implementation aspect of this idea:\n\nan 1u battery pack (full of li-ion 18650 cells) would power a 10kw load for about 10mins. so to run it at night (12hr from sunset to sunrise) would be 720mins, or 72u size battery pack. plus you need an inverter to transform battery dc output to ac 220v, your battery would be the size of two racks. i don't have the calculation of the solar panel that charges the battery. you'd need to ensure your battery could weather the storm that block the sunshine, so i think you'd need at least tripple your equipment",
         "0.64316875"
        ],
        [
         "6",
         "lithium",
         "actually, many ups', especially dc grade ups', do not use lithium, they use lead-acid or more durable battery compositions. lithium is not only expensive, it is inappropriate in most regards for dc class ups design. the lifespan is too short, the discharge and maximum charge behaviour is too problematic, and naturally, it leads to fires that require special substances to put out (d class extinguishers in my part of the world).\n\nthat is, ovh _might_ have used lithium ups', but i _doubt_ it.\n\nalso, i just checked, the article doesn't have the word \"lithium\" anywhere in it.",
         "0.8598888",
         "this may have been the consensus 5 years ago.\nbut lithium batteries are now considered a mature technology and the advantages are too numerous to ignore it's no longer a straight yes/no answer. everyone's biz case and risk tolerance is different. the past 3 years i've been involved in building 3 new dcs (all different colos) that utilize ups with lithium batteries\n\nlonger lifespan, handles more discharge cycles, higher energy density leading to a smaller footprint and higher operating temperatures.\n\nof course the big risk here is an out of control fire. which is why its not a good idea to retrofit these into existing sites out with adding in addition fire protection measures and fire compartmentalization.",
         "0.43610293"
        ],
        [
         "7",
         "ups",
         "the engineering mindset on youtube is a great resource. it’s not super in depth, buts his videos are enough to get you familiar with common terms that you can go on and learn more from. jim pytel is also fantastic, but much more in depth.\n\ni’m also a navy vet working in the dc space. there are other great opportunities in the industry depending on what you are looking for. for example, dceo and facilities work in general is going to have regular night shifts, which was no-go for me. i ended up working for a ups oem in field service, and it’s a pretty good gig. if you’re interested in at least getting an offer to negotiate with, i can probably get you an interview, as we’re hiring in most areas aws operates\n\nedit: jim pytel (bigbadtech),  not patel",
         "0.973194",
         "yeah i wish we got more remote hands tickets at night as well, as that is the aspect i enjoy the most.  we used to have a cage full of racks that belonged to opera and they're located overseas so most of their smart hands requests were at weird hours of the night, but they recently decommissioned so that made the graveyard shift that much more boring.  \n\nbut if you're more into the facilities side of things i would probably start studying the ins and outs of crac units and pdus, generators, and all of the hvac stuff.  so that when things start breaking you'll have somewhat of an idea on how to fix it.  i'm sure you guys use vendors to come in and do big repairs when say a ups has a weird error.  but compressors in crac units go bad and sometimes they like to ice over, so just knowing how to fix stuff like that is fairly helpful although you may already have that skill if you were a copier repairman.  \n\nsorry probably a lot of useless info but i'm at work and i'm bored so i figured i'd give a shot at giving you some ideas.  lol.  take it easy my man.",
         "0.4267204"
        ]
       ],
       "shape": {
        "columns": 5,
        "rows": 8
       }
      },
      "text/html": [
       "<div>\n",
       "<style scoped>\n",
       "    .dataframe tbody tr th:only-of-type {\n",
       "        vertical-align: middle;\n",
       "    }\n",
       "\n",
       "    .dataframe tbody tr th {\n",
       "        vertical-align: top;\n",
       "    }\n",
       "\n",
       "    .dataframe thead th {\n",
       "        text-align: right;\n",
       "    }\n",
       "</style>\n",
       "<table border=\"1\" class=\"dataframe\">\n",
       "  <thead>\n",
       "    <tr style=\"text-align: right;\">\n",
       "      <th></th>\n",
       "      <th>matched_terms</th>\n",
       "      <th>text_most_positive</th>\n",
       "      <th>roberta_score_most_positive</th>\n",
       "      <th>text_most_negative</th>\n",
       "      <th>roberta_score_most_negative</th>\n",
       "    </tr>\n",
       "  </thead>\n",
       "  <tbody>\n",
       "    <tr>\n",
       "      <th>0</th>\n",
       "      <td>acid</td>\n",
       "      <td>actually, many ups', especially dc grade ups',...</td>\n",
       "      <td>0.859889</td>\n",
       "      <td>\"no such thing as a data center that's too col...</td>\n",
       "      <td>0.455056</td>\n",
       "    </tr>\n",
       "    <tr>\n",
       "      <th>1</th>\n",
       "      <td>batteries</td>\n",
       "      <td>that'll prove to be a disaster if the batterie...</td>\n",
       "      <td>0.945713</td>\n",
       "      <td>this may have been the consensus 5 years ago.\\...</td>\n",
       "      <td>0.436103</td>\n",
       "    </tr>\n",
       "    <tr>\n",
       "      <th>2</th>\n",
       "      <td>battery</td>\n",
       "      <td>are all of the raid batteries the same age? an...</td>\n",
       "      <td>0.913489</td>\n",
       "      <td>i handle all field ups units for a large truck...</td>\n",
       "      <td>0.446345</td>\n",
       "    </tr>\n",
       "    <tr>\n",
       "      <th>3</th>\n",
       "      <td>ion</td>\n",
       "      <td>yes, it is detailed in their site that the mv ...</td>\n",
       "      <td>0.865184</td>\n",
       "      <td>\"no such thing as a data center that's too col...</td>\n",
       "      <td>0.455056</td>\n",
       "    </tr>\n",
       "    <tr>\n",
       "      <th>4</th>\n",
       "      <td>lead</td>\n",
       "      <td>first of all, taking on those data center move...</td>\n",
       "      <td>0.944411</td>\n",
       "      <td>it really depends op, working at a dc is great...</td>\n",
       "      <td>0.407846</td>\n",
       "    </tr>\n",
       "    <tr>\n",
       "      <th>5</th>\n",
       "      <td>li-ion</td>\n",
       "      <td>yes, it is detailed in their site that the mv ...</td>\n",
       "      <td>0.865184</td>\n",
       "      <td>of course it's feasible. tesla made mega batte...</td>\n",
       "      <td>0.643169</td>\n",
       "    </tr>\n",
       "    <tr>\n",
       "      <th>6</th>\n",
       "      <td>lithium</td>\n",
       "      <td>actually, many ups', especially dc grade ups',...</td>\n",
       "      <td>0.859889</td>\n",
       "      <td>this may have been the consensus 5 years ago.\\...</td>\n",
       "      <td>0.436103</td>\n",
       "    </tr>\n",
       "    <tr>\n",
       "      <th>7</th>\n",
       "      <td>ups</td>\n",
       "      <td>the engineering mindset on youtube is a great ...</td>\n",
       "      <td>0.973194</td>\n",
       "      <td>yeah i wish we got more remote hands tickets a...</td>\n",
       "      <td>0.426720</td>\n",
       "    </tr>\n",
       "  </tbody>\n",
       "</table>\n",
       "</div>"
      ],
      "text/plain": [
       "  matched_terms                                 text_most_positive  \\\n",
       "0          acid  actually, many ups', especially dc grade ups',...   \n",
       "1     batteries  that'll prove to be a disaster if the batterie...   \n",
       "2       battery  are all of the raid batteries the same age? an...   \n",
       "3           ion  yes, it is detailed in their site that the mv ...   \n",
       "4          lead  first of all, taking on those data center move...   \n",
       "5        li-ion  yes, it is detailed in their site that the mv ...   \n",
       "6       lithium  actually, many ups', especially dc grade ups',...   \n",
       "7           ups  the engineering mindset on youtube is a great ...   \n",
       "\n",
       "   roberta_score_most_positive  \\\n",
       "0                     0.859889   \n",
       "1                     0.945713   \n",
       "2                     0.913489   \n",
       "3                     0.865184   \n",
       "4                     0.944411   \n",
       "5                     0.865184   \n",
       "6                     0.859889   \n",
       "7                     0.973194   \n",
       "\n",
       "                                  text_most_negative  \\\n",
       "0  \"no such thing as a data center that's too col...   \n",
       "1  this may have been the consensus 5 years ago.\\...   \n",
       "2  i handle all field ups units for a large truck...   \n",
       "3  \"no such thing as a data center that's too col...   \n",
       "4  it really depends op, working at a dc is great...   \n",
       "5  of course it's feasible. tesla made mega batte...   \n",
       "6  this may have been the consensus 5 years ago.\\...   \n",
       "7  yeah i wish we got more remote hands tickets a...   \n",
       "\n",
       "   roberta_score_most_negative  \n",
       "0                     0.455056  \n",
       "1                     0.436103  \n",
       "2                     0.446345  \n",
       "3                     0.455056  \n",
       "4                     0.407846  \n",
       "5                     0.643169  \n",
       "6                     0.436103  \n",
       "7                     0.426720  "
      ]
     },
     "metadata": {},
     "output_type": "display_data"
    }
   ],
   "source": [
    "\n",
    "\n",
    "# ---------------------------\n",
    "# Visualization by Sentiment Class and Term\n",
    "# ---------------------------\n",
    "sentiment_counts = df_exploded.groupby(['matched_terms', 'roberta_label']).size().unstack(fill_value=0)\n",
    "\n",
    "plt.figure(figsize=(10, 6))\n",
    "sentiment_counts.plot(kind='bar', stacked=True, colormap='coolwarm', figsize=(10, 6))\n",
    "plt.title(\"Sentiment Distribution per Battery Term\")\n",
    "plt.xlabel(\"Battery Term\")\n",
    "plt.ylabel(\"Number of Comments\")\n",
    "plt.xticks(rotation=45)\n",
    "plt.grid(axis='y')\n",
    "plt.tight_layout()\n",
    "plt.show()\n",
    "\n",
    "# ---------------------------\n",
    "# Drill-down: Most Positive & Negative per Term\n",
    "# ---------------------------\n",
    "most_pos_comments = df_exploded.sort_values(by='roberta_score', ascending=False).groupby('matched_terms').first().reset_index()\n",
    "most_neg_comments = df_exploded.sort_values(by='roberta_score').groupby('matched_terms').first().reset_index()\n",
    "\n",
    "# Combine for review\n",
    "drill_df = pd.merge(\n",
    "    most_pos_comments[['matched_terms', 'text', 'roberta_score']],\n",
    "    most_neg_comments[['matched_terms', 'text', 'roberta_score']],\n",
    "    on='matched_terms',\n",
    "    suffixes=('_most_positive', '_most_negative')\n",
    ")\n",
    "display(drill_df)"
   ]
  },
  {
   "cell_type": "code",
   "execution_count": 28,
   "id": "0a42ff4f",
   "metadata": {},
   "outputs": [],
   "source": [
    "neg_comments = df_exploded[df_exploded['roberta_label'] == 'negative']\n",
    "neg_lithium = neg_comments[neg_comments['matched_terms'] == 'lithium']\n",
    "\n"
   ]
  },
  {
   "cell_type": "code",
   "execution_count": 29,
   "id": "a86c6ae6",
   "metadata": {},
   "outputs": [],
   "source": [
    "from nltk.tokenize import RegexpTokenizer\n",
    "\n",
    "tokenizer = RegexpTokenizer(r'\\w+')  # keeps only words, removes punctuation\n",
    "\n",
    "def extract_keywords_no_punkt(text_series):\n",
    "    all_words = []\n",
    "    for text in text_series:\n",
    "        tokens = tokenizer.tokenize(text.lower())\n",
    "        filtered = [word for word in tokens if word not in stop_words]\n",
    "        all_words.extend(filtered)\n",
    "    return Counter(all_words).most_common(20)\n"
   ]
  },
  {
   "cell_type": "code",
   "execution_count": null,
   "id": "4ff47fd2",
   "metadata": {},
   "outputs": [
    {
     "name": "stderr",
     "output_type": "stream",
     "text": [
      "[nltk_data] Downloading package stopwords to /home/jovyan/nltk_data...\n",
      "[nltk_data]   Package stopwords is already up-to-date!\n"
     ]
    },
    {
     "data": {
      "image/png": "[encoded data removed]",
      "text/plain": [
       "<Figure size 1200x600 with 1 Axes>"
      ]
     },
     "metadata": {},
     "output_type": "display_data"
    }
   ],
   "source": [
    "# Define stop_words using NLTK's built-in list\n",
    "from nltk.corpus import stopwords\n",
    "\n",
    "\n",
    "nltk.download('stopwords')\n",
    "stop_words = set(stopwords.words('english'))\n",
    "\n",
    "# Now that stop_words is defined, rerun the visualization block\n",
    "from nltk.tokenize import RegexpTokenizer\n",
    "from collections import Counter\n",
    "\n",
    "tokenizer = RegexpTokenizer(r'\\w+')\n",
    "\n",
    "def extract_keywords_no_punkt(text_series):\n",
    "    all_words = []\n",
    "    for text in text_series:\n",
    "        tokens = tokenizer.tokenize(text.lower())\n",
    "        filtered = [word for word in tokens if word not in stop_words]\n",
    "        all_words.extend(filtered)\n",
    "    return Counter(all_words).most_common(20)\n",
    "\n",
    "chemistry_pain_points = {}\n",
    "\n",
    "battery_terms = neg_comments['matched_terms'].unique()\n",
    "\n",
    "for term in battery_terms:\n",
    "    chem_comments = neg_comments[neg_comments['matched_terms'] == term]\n",
    "    keywords = extract_keywords_no_punkt(chem_comments['text'])\n",
    "    chemistry_pain_points[term] = keywords\n",
    "\n",
    "pain_point_data = []\n",
    "\n",
    "for term, keywords in chemistry_pain_points.items():\n",
    "    for word, freq in keywords:\n",
    "        pain_point_data.append({'battery_chemistry': term, 'keyword': word, 'frequency': freq})\n",
    "\n",
    "pain_point_df = pd.DataFrame(pain_point_data)\n",
    "\n",
    "# Visualize\n",
    "import seaborn as sns\n",
    "import matplotlib.pyplot as plt\n",
    "\n",
    "top_pain_points = (\n",
    "    pain_point_df\n",
    "    .sort_values(by='frequency', ascending=False)\n",
    "    .groupby('battery_chemistry')\n",
    "    .head(5)\n",
    ")\n",
    "\n",
    "plt.figure(figsize=(12, 6))\n",
    "sns.barplot(\n",
    "    data=top_pain_points,\n",
    "    y='keyword',\n",
    "    x='frequency',\n",
    "    hue='battery_chemistry',\n",
    "    dodge=False\n",
    ")\n",
    "plt.title('Top Pain Point Keywords by Battery Chemistry')\n",
    "plt.xlabel('Frequency')\n",
    "plt.ylabel('Keyword')\n",
    "plt.legend(title='Battery Chemistry', bbox_to_anchor=(1.05, 1), loc='upper left')\n",
    "plt.tight_layout()\n",
    "plt.grid(axis='x')\n",
    "plt.show()\n"
   ]
  },
  {
   "cell_type": "code",
   "execution_count": null,
   "id": "a4d26b13",
   "metadata": {},
   "outputs": [],
   "source": []
  }
 ],
 "metadata": {
  "kernelspec": {
   "display_name": "base",
   "language": "python",
   "name": "python3"
  },
  "language_info": {
   "codemirror_mode": {
    "name": "ipython",
    "version": 3
   },
   "file_extension": ".py",
   "mimetype": "text/x-python",
   "name": "python",
   "nbconvert_exporter": "python",
   "pygments_lexer": "ipython3",
   "version": "3.12.7"
  }
 },
 "nbformat": 4,
 "nbformat_minor": 5
}
