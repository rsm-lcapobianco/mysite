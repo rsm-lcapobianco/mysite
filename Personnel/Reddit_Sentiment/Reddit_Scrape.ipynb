{
 "cells": [
  {
   "cell_type": "code",
   "execution_count": 1,
   "id": "8b4582ca",
   "metadata": {},
   "outputs": [
    {
     "name": "stderr",
     "output_type": "stream",
     "text": [
      "Matplotlib created a temporary cache directory at /tmp/matplotlib-miy9g9hg because the default path (/home/jovyan/.config/matplotlib) is not a writable directory; it is highly recommended to set the MPLCONFIGDIR environment variable to a writable directory, in particular to speed up the import of Matplotlib and to better support multiprocessing.\n"
     ]
    }
   ],
   "source": [
    "import praw\n",
    "import regex as re\n",
    "import numpy as np\n",
    "import pandas as pd\n",
    "import matplotlib.pyplot as plt\n",
    "import seaborn as sns\n",
    "import datetime\n",
    "import os\n",
    "import sklearn"
   ]
  },
  {
   "cell_type": "markdown",
   "id": "c64637f4",
   "metadata": {},
   "source": [
    "# Connect to Reddit API"
   ]
  },
  {
   "cell_type": "code",
   "execution_count": null,
   "id": "23cad355",
   "metadata": {},
   "outputs": [],
   "source": [
    "clientid = '-----------'\n",
    "client_secret = '---------------'\n",
    "user_agent = \"script:reddit-sentiment-analyzer:v1.0 (by u/-------)\""
   ]
  },
  {
   "cell_type": "code",
   "execution_count": 3,
   "id": "d80dc1c5",
   "metadata": {},
   "outputs": [],
   "source": [
    "reddit = praw.Reddit(\n",
    "    client_id=clientid,\n",
    "    client_secret=client_secret,\n",
    "    user_agent=user_agent\n",
    ")"
   ]
  },
  {
   "cell_type": "code",
   "execution_count": 4,
   "id": "49acfb20",
   "metadata": {},
   "outputs": [
    {
     "name": "stdout",
     "output_type": "stream",
     "text": [
      "True\n"
     ]
    }
   ],
   "source": [
    "print(reddit.read_only)\n",
    "# Output: True"
   ]
  },
  {
   "cell_type": "markdown",
   "id": "2cfce7dc",
   "metadata": {},
   "source": [
    "# Assigns a Target Sub that might be useful to learn how the general sentiment around a topic"
   ]
  },
  {
   "cell_type": "code",
   "execution_count": 5,
   "id": "0d05f7dd",
   "metadata": {},
   "outputs": [],
   "source": [
    "tar_sub = 'datacenter'"
   ]
  },
  {
   "cell_type": "markdown",
   "id": "b2cad6a9",
   "metadata": {},
   "source": [
    "- Using our reddit instance look in the `tar_sub` for all time and sort the post by the number of upvotes in descending order\n",
    "- In each comment look through and find if any of the keywords are in it\n",
    "- lower case them for easier searching\n",
    "- build a dataframe "
   ]
  },
  {
   "cell_type": "code",
   "execution_count": 6,
   "id": "d5c2e65b",
   "metadata": {},
   "outputs": [],
   "source": [
    "import pandas as pd\n",
    "\n",
    "battery_terms = ['battery', 'batteries', 'lithium', 'li-ion', 'sodium', 'lead', 'acid', 'ups']\n",
    "data = []\n",
    "seen_comments = set()\n",
    "\n",
    "for term in battery_terms:\n",
    "    for submission in reddit.subreddit(tar_sub).search(term, sort=\"top\", time_filter=\"all\"):\n",
    "        submission.comments.replace_more(limit=0)\n",
    "        for comment in submission.comments.list():\n",
    "            if comment.id in seen_comments:\n",
    "                continue\n",
    "            text = comment.body.lower()\n",
    "            matched_terms = [bt for bt in battery_terms if bt in text]\n",
    "            if matched_terms:\n",
    "                data.append({\n",
    "                    'comment_id': comment.id,\n",
    "                    'author': str(comment.author),\n",
    "                    'text': text,\n",
    "                    'matched_terms': matched_terms,\n",
    "                    'submission_id': submission.id,\n",
    "                    'submission_title': submission.title\n",
    "                })\n",
    "                seen_comments.add(comment.id)\n",
    "\n",
    "# Convert to DataFrame\n",
    "df = pd.DataFrame(data)\n"
   ]
  },
  {
   "cell_type": "markdown",
   "id": "ded7a047",
   "metadata": {},
   "source": [
    "- Use the `VADER` sentiment analyzer to conduct out sentiment analysis\n",
    "    - `VADER` will score each word in the comment\n",
    "        - good = + 1.9\n",
    "        - good!!!! = +2.3\n",
    "        - bad = - 2.5\n",
    "        - Extremely Bad = -3\n",
    "        - awesome = +3.1\n",
    "    - Output from `VADER` will have the proprtion of posivtive and negative sentment in the text and produced a normalized value `compund`\n",
    "    - We'll apply the label marking it as net positive or net negative response based on the `compound` score"
   ]
  },
  {
   "cell_type": "code",
   "execution_count": 7,
   "id": "11341996",
   "metadata": {},
   "outputs": [],
   "source": [
    "from vaderSentiment.vaderSentiment import SentimentIntensityAnalyzer\n",
    "\n",
    "analyzer = SentimentIntensityAnalyzer()\n"
   ]
  },
  {
   "cell_type": "code",
   "execution_count": 8,
   "id": "cf572c45",
   "metadata": {},
   "outputs": [],
   "source": [
    "# Apply VADER to each comment's text\n",
    "df['sentiment'] = df['text'].apply(lambda x: analyzer.polarity_scores(x))\n"
   ]
  },
  {
   "cell_type": "code",
   "execution_count": 9,
   "id": "14b26bc8",
   "metadata": {},
   "outputs": [],
   "source": [
    "df = pd.concat([df.drop('sentiment', axis=1), df['sentiment'].apply(pd.Series)], axis=1)\n"
   ]
  },
  {
   "cell_type": "code",
   "execution_count": 10,
   "id": "6188818a",
   "metadata": {},
   "outputs": [],
   "source": [
    "def get_label(score):\n",
    "    if score >= 0.05:\n",
    "        return 'positive'\n",
    "    elif score <= -0.05:\n",
    "        return 'negative'\n",
    "    else:\n",
    "        return 'neutral'\n",
    "\n",
    "df['sentiment_label'] = df['compound'].apply(get_label)\n"
   ]
  },
  {
   "cell_type": "code",
   "execution_count": 11,
   "id": "2cbe905d",
   "metadata": {},
   "outputs": [
    {
     "data": {
      "application/vnd.microsoft.datawrangler.viewer.v0+json": {
       "columns": [
        {
         "name": "index",
         "rawType": "int64",
         "type": "integer"
        },
        {
         "name": "comment_id",
         "rawType": "object",
         "type": "string"
        },
        {
         "name": "author",
         "rawType": "object",
         "type": "string"
        },
        {
         "name": "text",
         "rawType": "object",
         "type": "string"
        },
        {
         "name": "matched_terms",
         "rawType": "object",
         "type": "unknown"
        },
        {
         "name": "submission_id",
         "rawType": "object",
         "type": "string"
        },
        {
         "name": "submission_title",
         "rawType": "object",
         "type": "string"
        },
        {
         "name": "neg",
         "rawType": "float64",
         "type": "float"
        },
        {
         "name": "neu",
         "rawType": "float64",
         "type": "float"
        },
        {
         "name": "pos",
         "rawType": "float64",
         "type": "float"
        },
        {
         "name": "compound",
         "rawType": "float64",
         "type": "float"
        },
        {
         "name": "sentiment_label",
         "rawType": "object",
         "type": "string"
        }
       ],
       "conversionMethod": "pd.DataFrame",
       "ref": "e16dee1e-b585-4b30-9c82-8e90514d8772",
       "rows": [
        [
         "0",
         "g0bu3y5",
         "ghostalker47423",
         "do a visual inspection, and if you see any leaking or bulging, chuck them out. everything else is safe. sla batteries can sit around practically forever - even the big ones - as long as they're not being used as a doorstop or wheel chokes.\n\nas for whether they work, hold a charge, how much of a charge (etc)... that's another problem.",
         "['batteries']",
         "i3jdwl",
         "Inheriting a 30 kVA UPS with 2 strings of 24 batteries dated to 2005. UPS is off and in bypass mode. Are 15 year old sealed lead-acid batteries a potential fire hazard?",
         "0.084",
         "0.873",
         "0.043",
         "-0.4215",
         "negative"
        ],
        [
         "1",
         "g0diub1",
         "Redebo",
         "disconnect the battery strings via the associated battery breaker or switch that is either in the ups or electrically in line with the ups.  if you want to be safer after that, remove the intercell jumpers between each battery (caution, batteries are always 'live' and can present voltage and current when both terminals are touched).  once the batteries are disconnected and just sitting on a shelf, you can leave them there practically forever with no risk.\n\nalso, would definitely recommend rip and replace on a 15 year old ups.  if you are located in the western us, my company can assist if you're in need.",
         "['battery', 'batteries', 'ups']",
         "i3jdwl",
         "Inheriting a 30 kVA UPS with 2 strings of 24 batteries dated to 2005. UPS is off and in bypass mode. Are 15 year old sealed lead-acid batteries a potential fire hazard?",
         "0.011",
         "0.889",
         "0.1",
         "0.8366",
         "positive"
        ],
        [
         "2",
         "g0dtxqg",
         "letsbebuns",
         "the batteries should be removed based on age.  they are dangerous if they have voltage flowing to them or if they show any bulging whatsoever.  \n\nthe ups can be salvaged, you just need to purchase new lead acid batteries for it and install them.  \n\nbut i would just e-waste the entire thing, it's not doing anything in bypass mode, it's not conditioning your power or protecting you from surges.",
         "['batteries', 'lead', 'acid', 'ups']",
         "i3jdwl",
         "Inheriting a 30 kVA UPS with 2 strings of 24 batteries dated to 2005. UPS is off and in bypass mode. Are 15 year old sealed lead-acid batteries a potential fire hazard?",
         "0.029",
         "0.971",
         "0.0",
         "-0.2617",
         "negative"
        ]
       ],
       "shape": {
        "columns": 11,
        "rows": 3
       }
      },
      "text/html": [
       "<div>\n",
       "<style scoped>\n",
       "    .dataframe tbody tr th:only-of-type {\n",
       "        vertical-align: middle;\n",
       "    }\n",
       "\n",
       "    .dataframe tbody tr th {\n",
       "        vertical-align: top;\n",
       "    }\n",
       "\n",
       "    .dataframe thead th {\n",
       "        text-align: right;\n",
       "    }\n",
       "</style>\n",
       "<table border=\"1\" class=\"dataframe\">\n",
       "  <thead>\n",
       "    <tr style=\"text-align: right;\">\n",
       "      <th></th>\n",
       "      <th>comment_id</th>\n",
       "      <th>author</th>\n",
       "      <th>text</th>\n",
       "      <th>matched_terms</th>\n",
       "      <th>submission_id</th>\n",
       "      <th>submission_title</th>\n",
       "      <th>neg</th>\n",
       "      <th>neu</th>\n",
       "      <th>pos</th>\n",
       "      <th>compound</th>\n",
       "      <th>sentiment_label</th>\n",
       "    </tr>\n",
       "  </thead>\n",
       "  <tbody>\n",
       "    <tr>\n",
       "      <th>0</th>\n",
       "      <td>g0bu3y5</td>\n",
       "      <td>ghostalker47423</td>\n",
       "      <td>do a visual inspection, and if you see any lea...</td>\n",
       "      <td>[batteries]</td>\n",
       "      <td>i3jdwl</td>\n",
       "      <td>Inheriting a 30 kVA UPS with 2 strings of 24 b...</td>\n",
       "      <td>0.084</td>\n",
       "      <td>0.873</td>\n",
       "      <td>0.043</td>\n",
       "      <td>-0.4215</td>\n",
       "      <td>negative</td>\n",
       "    </tr>\n",
       "    <tr>\n",
       "      <th>1</th>\n",
       "      <td>g0diub1</td>\n",
       "      <td>Redebo</td>\n",
       "      <td>disconnect the battery strings via the associa...</td>\n",
       "      <td>[battery, batteries, ups]</td>\n",
       "      <td>i3jdwl</td>\n",
       "      <td>Inheriting a 30 kVA UPS with 2 strings of 24 b...</td>\n",
       "      <td>0.011</td>\n",
       "      <td>0.889</td>\n",
       "      <td>0.100</td>\n",
       "      <td>0.8366</td>\n",
       "      <td>positive</td>\n",
       "    </tr>\n",
       "    <tr>\n",
       "      <th>2</th>\n",
       "      <td>g0dtxqg</td>\n",
       "      <td>letsbebuns</td>\n",
       "      <td>the batteries should be removed based on age. ...</td>\n",
       "      <td>[batteries, lead, acid, ups]</td>\n",
       "      <td>i3jdwl</td>\n",
       "      <td>Inheriting a 30 kVA UPS with 2 strings of 24 b...</td>\n",
       "      <td>0.029</td>\n",
       "      <td>0.971</td>\n",
       "      <td>0.000</td>\n",
       "      <td>-0.2617</td>\n",
       "      <td>negative</td>\n",
       "    </tr>\n",
       "  </tbody>\n",
       "</table>\n",
       "</div>"
      ],
      "text/plain": [
       "  comment_id           author  \\\n",
       "0    g0bu3y5  ghostalker47423   \n",
       "1    g0diub1           Redebo   \n",
       "2    g0dtxqg       letsbebuns   \n",
       "\n",
       "                                                text  \\\n",
       "0  do a visual inspection, and if you see any lea...   \n",
       "1  disconnect the battery strings via the associa...   \n",
       "2  the batteries should be removed based on age. ...   \n",
       "\n",
       "                  matched_terms submission_id  \\\n",
       "0                   [batteries]        i3jdwl   \n",
       "1     [battery, batteries, ups]        i3jdwl   \n",
       "2  [batteries, lead, acid, ups]        i3jdwl   \n",
       "\n",
       "                                    submission_title    neg    neu    pos  \\\n",
       "0  Inheriting a 30 kVA UPS with 2 strings of 24 b...  0.084  0.873  0.043   \n",
       "1  Inheriting a 30 kVA UPS with 2 strings of 24 b...  0.011  0.889  0.100   \n",
       "2  Inheriting a 30 kVA UPS with 2 strings of 24 b...  0.029  0.971  0.000   \n",
       "\n",
       "   compound sentiment_label  \n",
       "0   -0.4215        negative  \n",
       "1    0.8366        positive  \n",
       "2   -0.2617        negative  "
      ]
     },
     "execution_count": 11,
     "metadata": {},
     "output_type": "execute_result"
    }
   ],
   "source": [
    "df.head(3)"
   ]
  },
  {
   "cell_type": "code",
   "execution_count": 13,
   "id": "4edf8ef3",
   "metadata": {},
   "outputs": [
    {
     "data": {
      "image/png": "[encoded data removed]",
      "text/plain": [
       "<Figure size 1000x600 with 1 Axes>"
      ]
     },
     "metadata": {},
     "output_type": "display_data"
    }
   ],
   "source": [
    "import pandas as pd\n",
    "import matplotlib.pyplot as plt\n",
    "\n",
    "# Simulate a sample of the df for visualization\n",
    "data = {\n",
    "    'matched_terms': df['matched_terms'],\n",
    "    'sentiment_label': df['sentiment_label']\n",
    "}\n",
    "\n",
    "df = pd.DataFrame(data)\n",
    "\n",
    "# Explode matched_terms to allow grouping by single term\n",
    "df_exploded = df.explode('matched_terms')\n",
    "\n",
    "# Count sentiment labels per battery type\n",
    "sentiment_counts = df_exploded.groupby(['matched_terms', 'sentiment_label']).size().unstack(fill_value=0)\n",
    "\n",
    "# Plot the sentiment distribution per battery type\n",
    "sentiment_counts.plot(kind='bar', stacked=True, figsize=(10, 6))\n",
    "plt.title('Sentiment Distribution by Battery Type')\n",
    "plt.xlabel('Battery Type')\n",
    "plt.ylabel('Number of Comments')\n",
    "plt.xticks(rotation=45)\n",
    "plt.tight_layout()\n",
    "plt.grid(axis='y')\n",
    "\n",
    "plt.show()"
   ]
  }
 ],
 "metadata": {
  "kernelspec": {
   "display_name": "base",
   "language": "python",
   "name": "python3"
  },
  "language_info": {
   "codemirror_mode": {
    "name": "ipython",
    "version": 3
   },
   "file_extension": ".py",
   "mimetype": "text/x-python",
   "name": "python",
   "nbconvert_exporter": "python",
   "pygments_lexer": "ipython3",
   "version": "3.12.7"
  }
 },
 "nbformat": 4,
 "nbformat_minor": 5
}
